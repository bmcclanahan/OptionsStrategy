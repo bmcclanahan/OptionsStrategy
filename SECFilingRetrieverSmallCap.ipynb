{
 "cells": [
  {
   "cell_type": "markdown",
   "metadata": {},
   "source": [
    "### Extract SEC Filing Archives"
   ]
  },
  {
   "cell_type": "code",
   "execution_count": null,
   "metadata": {},
   "outputs": [],
   "source": [
    "import os\n",
    "\n",
    "def create_dir(folder):\n",
    "    if not os.path.exists(folder):\n",
    "        os.makedirs(folder)"
   ]
  },
  {
   "cell_type": "code",
   "execution_count": null,
   "metadata": {},
   "outputs": [],
   "source": [
    "import zipfile\n",
    "\n",
    "def extract_archive(archive, directory):\n",
    "    with zipfile.ZipFile(archive, 'r') as zip_ref:\n",
    "        zip_ref.extractall(directory)"
   ]
  },
  {
   "cell_type": "code",
   "execution_count": null,
   "metadata": {},
   "outputs": [],
   "source": [
    "import os\n",
    "import progressbar\n",
    "\n",
    "sec_dir = 'sec_filings'\n",
    "for item in progressbar.progressbar(sorted(os.listdir(f'{sec_dir}/zips'))):\n",
    "    if item.startswith('20'):\n",
    "        quarter = item.split('.')[0]\n",
    "        quarter_directory = f'{sec_dir}/{quarter}'\n",
    "        create_dir(quarter_directory)\n",
    "        extract_archive(f'{sec_dir}/zips/{item}', quarter_directory)"
   ]
  },
  {
   "cell_type": "markdown",
   "metadata": {},
   "source": [
    "### Extract Fundamental Data"
   ]
  },
  {
   "cell_type": "code",
   "execution_count": 1,
   "metadata": {},
   "outputs": [
    {
     "name": "stderr",
     "output_type": "stream",
     "text": [
      "100% (1222 of 1222) |####################| Elapsed Time: 0:04:52 Time:  0:04:52\n"
     ]
    }
   ],
   "source": [
    "try:\n",
    "    import cPickle as pickle\n",
    "except:\n",
    "    import pickle\n",
    "import re\n",
    "from requests import get\n",
    "from collections import defaultdict\n",
    "import time\n",
    "import progressbar\n",
    "import pandas as pd\n",
    "import numpy as np\n",
    "\n",
    "symbols_df = pd.read_csv('ITOT_holdings.csv')\n",
    "symbols = symbols_df.loc[symbols_df.market_cap.str.replace(',', '').astype(np.float).between(10000,500000)].symbol.values\n",
    "URL = 'http://www.sec.gov/cgi-bin/browse-edgar?CIK={}&Find=Search&owner=exclude&action=getcompany'\n",
    "CIK_RE = re.compile(r'.*CIK=(\\d{10}).*')\n",
    "\n",
    "cik_dict = {}\n",
    "for ticker in progressbar.progressbar(symbols):\n",
    "    #time.sleep(.1)\n",
    "    results = CIK_RE.findall(get(URL.format(ticker)).content.decode(\"utf-8\") )\n",
    "    if len(results):\n",
    "        cik_dict[str(results[0])] = str(ticker).lower()\n",
    "f = open('cik_dict_micro_cap.pickle', 'wb')\n",
    "pickle.dump(cik_dict, f)\n",
    "f.close()"
   ]
  },
  {
   "cell_type": "code",
   "execution_count": 2,
   "metadata": {},
   "outputs": [
    {
     "name": "stderr",
     "output_type": "stream",
     "text": [
      " 23% (11 of 47) |#####                   | Elapsed Time: 0:05:13 ETA:   0:01:22/Users/brianmcclanahan/opt/anaconda3/lib/python3.7/site-packages/IPython/core/interactiveshell.py:3063: DtypeWarning: Columns (3) have mixed types.Specify dtype option on import or set low_memory=False.\n",
      "  interactivity=interactivity, compiler=compiler, result=result)\n",
      " 74% (35 of 47) |#################       | Elapsed Time: 0:18:47 ETA:   0:08:04/Users/brianmcclanahan/opt/anaconda3/lib/python3.7/site-packages/IPython/core/interactiveshell.py:3063: DtypeWarning: Columns (35) have mixed types.Specify dtype option on import or set low_memory=False.\n",
      "  interactivity=interactivity, compiler=compiler, result=result)\n",
      "100% (47 of 47) |########################| Elapsed Time: 0:26:17 Time:  0:26:17\n"
     ]
    }
   ],
   "source": [
    "import pandas as pd\n",
    "import os\n",
    "import progressbar\n",
    "import pickle\n",
    "import numpy as np\n",
    "\n",
    "def propagate_latest(sym_df):\n",
    "    sym_df = sym_df.sort_values('filed')\n",
    "    sym_df = sym_df.fillna(method='ffill')\n",
    "    return sym_df\n",
    "\n",
    "cik_dict = pickle.load(open('cik_dict_micro_cap.pickle', 'rb'))\n",
    "sec_dir = 'sec_filings'\n",
    "values = ['CommonStockSharesOutstanding', 'EarningsPerShareBasic', 'EarningsPerShareBasicAndDiluted']\n",
    "quarters = [\n",
    "    quarter\n",
    "    for quarter in os.listdir(sec_dir)\n",
    "    if quarter.startswith('20')\n",
    "]\n",
    "df_list = []\n",
    "used_quarters = []\n",
    "for quarter in progressbar.progressbar(quarters): # progressbar.progressbar(quarters):  ['2020q3']\n",
    "    sub_df = pd.read_csv(f'{sec_dir}/{quarter}/sub.txt', delimiter='\\t')\n",
    "    if sub_df.shape[0] == 0:\n",
    "        continue\n",
    "    num_df = pd.read_csv(f'{sec_dir}/{quarter}/num.txt', delimiter='\\t')\n",
    "    \n",
    "    # need to understand how ddate works here\n",
    "    num_df = num_df.sort_values('ddate')\n",
    "    num_df = num_df[['adsh', 'tag', 'ddate', 'value']].drop_duplicates(\n",
    "        subset=['adsh', 'tag'], keep='last'\n",
    "    )\n",
    "    #sub_df.loc[:, 'symbol'] = sub_df.instance.apply(\n",
    "    #    lambda x: x.split('-')[0].upper()\n",
    "    #)\n",
    "    sub_df.loc[:, 'symbol'] = sub_df.apply(\n",
    "        lambda x: cik_dict[f'{x.cik:010}'].upper() if f'{x.cik:010}' in cik_dict else x.instance.split('-')[0].upper(),\n",
    "        axis=1\n",
    "    )\n",
    "    sub_df.loc[:, 'year'] = int(quarter[:4])\n",
    "    sub_df.loc[:, 'quarter'] = int(quarter[5])\n",
    "    for index, value in enumerate(values):\n",
    "        value_df = num_df.loc[num_df.tag == value][['adsh', 'value']]\n",
    "        value_df = value_df.rename(columns={\"value\": value})\n",
    "        sub_df = sub_df.merge(\n",
    "            value_df, on='adsh',\n",
    "            how='left'\n",
    "        )\n",
    "    sub_df = sub_df.groupby('symbol').apply(propagate_latest).reset_index(drop=True)\n",
    "    sub_df = sub_df.sort_values('filed').drop_duplicates(subset=['symbol'], keep='last') #duplicate adsh values found\n",
    "    sub_df.loc[:, 'EarningsPerShareBasic'] = np.fmin(sub_df.EarningsPerShareBasic, sub_df.EarningsPerShareBasicAndDiluted)\n",
    "    df_list.append(sub_df[values + ['symbol', 'year', 'quarter']])\n",
    "    used_quarters.append(quarter)\n",
    "fundamental_df = pd.concat(df_list, axis=0, ignore_index=True)\n",
    "fundamental_df.to_parquet('fundamentals_micro.parquet')"
   ]
  },
  {
   "cell_type": "code",
   "execution_count": null,
   "metadata": {},
   "outputs": [],
   "source": [
    "sub_df.loc[sub_df.cik == 789570][['adsh', 'filed']]"
   ]
  },
  {
   "cell_type": "code",
   "execution_count": null,
   "metadata": {},
   "outputs": [],
   "source": [
    "sub_df.iloc[3797]"
   ]
  },
  {
   "cell_type": "code",
   "execution_count": null,
   "metadata": {},
   "outputs": [],
   "source": [
    "cik_dict[f'{1372612:010}']"
   ]
  },
  {
   "cell_type": "code",
   "execution_count": null,
   "metadata": {},
   "outputs": [],
   "source": [
    "f'{789570:010}'"
   ]
  },
  {
   "cell_type": "code",
   "execution_count": null,
   "metadata": {},
   "outputs": [],
   "source": [
    "cik_dict.items()"
   ]
  },
  {
   "cell_type": "code",
   "execution_count": null,
   "metadata": {},
   "outputs": [],
   "source": [
    "sub_df."
   ]
  },
  {
   "cell_type": "code",
   "execution_count": null,
   "metadata": {},
   "outputs": [],
   "source": [
    "sub_df.shape"
   ]
  },
  {
   "cell_type": "code",
   "execution_count": null,
   "metadata": {},
   "outputs": [],
   "source": [
    "sorted(num_df.loc[num_df.adsh == '0001564590-20-042654'].tag.unique())"
   ]
  },
  {
   "cell_type": "code",
   "execution_count": null,
   "metadata": {},
   "outputs": [],
   "source": [
    "num_df.columns"
   ]
  },
  {
   "cell_type": "code",
   "execution_count": null,
   "metadata": {},
   "outputs": [],
   "source": [
    "sub_df.loc[sub_df.symbol == 'AAPL']"
   ]
  },
  {
   "cell_type": "code",
   "execution_count": null,
   "metadata": {},
   "outputs": [],
   "source": [
    "import numpy as np\n",
    "np.fmin(sub_df.EarningsPerShareBasic, sub_df.EarningsPerShareBasicAndDiluted)"
   ]
  },
  {
   "cell_type": "code",
   "execution_count": null,
   "metadata": {},
   "outputs": [],
   "source": []
  }
 ],
 "metadata": {
  "kernelspec": {
   "display_name": "Python 3",
   "language": "python",
   "name": "python3"
  },
  "language_info": {
   "codemirror_mode": {
    "name": "ipython",
    "version": 3
   },
   "file_extension": ".py",
   "mimetype": "text/x-python",
   "name": "python",
   "nbconvert_exporter": "python",
   "pygments_lexer": "ipython3",
   "version": "3.7.6"
  }
 },
 "nbformat": 4,
 "nbformat_minor": 4
}
