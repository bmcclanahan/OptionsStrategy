{
 "cells": [
  {
   "cell_type": "code",
   "execution_count": 1,
   "metadata": {},
   "outputs": [],
   "source": [
    "import sys\n",
    "import os\n",
    "\n",
    "portfolio_dir = 'portfolios/lrg_med_equity'\n",
    "\n",
    "sys.path.append(os.getcwd())\n",
    "os.chdir(portfolio_dir)"
   ]
  },
  {
   "cell_type": "code",
   "execution_count": null,
   "metadata": {},
   "outputs": [],
   "source": [
    "import swinging.download as download\n",
    "import pandas as pd\n",
    "import os\n",
    "\n",
    "api_key = '5e225d64b14d31.07865608'\n",
    "symbol_df_path = '../../ITOT_holdings.csv'\n",
    "limit = 100\n",
    "\n",
    "\n",
    "symbol_df = pd.read_csv(symbol_df_path).dropna().iloc[:limit]\n",
    "\n",
    "\n",
    "download.write_data_and_indices(\n",
    "    api_key, symbol_df, datadir='data',\n",
    "    symbol_output_file='all_symbols.parquet',\n",
    "    index_output_file='market_index.parquet', history_length=20\n",
    ")"
   ]
  },
  {
   "cell_type": "code",
   "execution_count": null,
   "metadata": {},
   "outputs": [],
   "source": [
    "import swinging.indicators as indicators\n",
    "\n",
    "indicators.get_ta_and_fundamental_data(fundamental_data_path='../../fundamentals.parquet')"
   ]
  },
  {
   "cell_type": "code",
   "execution_count": 2,
   "metadata": {},
   "outputs": [
    {
     "name": "stderr",
     "output_type": "stream",
     "text": [
      "/Users/brianmcclanahan/git_repos/OptionsStrategy/swinging/strategy.py:106: RuntimeWarning: invalid value encountered in true_divide\n",
      "  inv_price, equity / mv_avg, (df['date'] >= pickup_dt).values,\n",
      "/Users/brianmcclanahan/git_repos/OptionsStrategy/swinging/strategy.py:106: RuntimeWarning: invalid value encountered in true_divide\n",
      "  inv_price, equity / mv_avg, (df['date'] >= pickup_dt).values,\n",
      "/Users/brianmcclanahan/git_repos/OptionsStrategy/swinging/strategy.py:106: RuntimeWarning: invalid value encountered in true_divide\n",
      "  inv_price, equity / mv_avg, (df['date'] >= pickup_dt).values,\n"
     ]
    }
   ],
   "source": [
    "from swinging.strategy import RSIStrategy, MFIStrategy, STOStrategy, BreakoutStrategy, BollingerStrategy, MACDStrategy, run_strategy_on_data\n",
    "\n",
    "run_length=15\n",
    "run_strategy_on_data(RSIStrategy, strategy_type='mean_reversion', run_length=run_length)\n",
    "run_strategy_on_data(MFIStrategy, strategy_type='mean_reversion', run_length=run_length)\n",
    "run_strategy_on_data(STOStrategy, strategy_type='mean_reversion', run_length=run_length)\n",
    "run_strategy_on_data(BreakoutStrategy, strategy_type='trend', run_length=run_length)\n",
    "run_strategy_on_data(BollingerStrategy, strategy_type='trend', run_length=run_length)\n",
    "run_strategy_on_data(MACDStrategy, strategy_type='trend', run_length=run_length)"
   ]
  },
  {
   "cell_type": "code",
   "execution_count": 3,
   "metadata": {},
   "outputs": [
    {
     "name": "stderr",
     "output_type": "stream",
     "text": [
      "/Users/brianmcclanahan/opt/anaconda3/lib/python3.7/site-packages/pandas/core/indexing.py:844: SettingWithCopyWarning:\n",
      "\n",
      "\n",
      "A value is trying to be set on a copy of a slice from a DataFrame.\n",
      "Try using .loc[row_indexer,col_indexer] = value instead\n",
      "\n",
      "See the caveats in the documentation: https://pandas.pydata.org/pandas-docs/stable/user_guide/indexing.html#returning-a-view-versus-a-copy\n",
      "\n",
      "/Users/brianmcclanahan/opt/anaconda3/lib/python3.7/site-packages/pandas/core/indexing.py:965: SettingWithCopyWarning:\n",
      "\n",
      "\n",
      "A value is trying to be set on a copy of a slice from a DataFrame.\n",
      "Try using .loc[row_indexer,col_indexer] = value instead\n",
      "\n",
      "See the caveats in the documentation: https://pandas.pydata.org/pandas-docs/stable/user_guide/indexing.html#returning-a-view-versus-a-copy\n",
      "\n"
     ]
    },
    {
     "ename": "AttributeError",
     "evalue": "'NoneType' object has no attribute 'loc'",
     "output_type": "error",
     "traceback": [
      "\u001b[0;31m---------------------------------------------------------------------------\u001b[0m",
      "\u001b[0;31mAttributeError\u001b[0m                            Traceback (most recent call last)",
      "\u001b[0;32m<ipython-input-3-e8d2a6847fcb>\u001b[0m in \u001b[0;36m<module>\u001b[0;34m\u001b[0m\n\u001b[1;32m      3\u001b[0m \u001b[0mcols\u001b[0m \u001b[0;34m=\u001b[0m \u001b[0;34m[\u001b[0m\u001b[0;34m'date'\u001b[0m\u001b[0;34m,\u001b[0m \u001b[0;34m'symbol'\u001b[0m\u001b[0;34m,\u001b[0m \u001b[0;34m'pred'\u001b[0m\u001b[0;34m,\u001b[0m \u001b[0;34m'pred_score'\u001b[0m\u001b[0;34m,\u001b[0m \u001b[0;34m'volatility'\u001b[0m\u001b[0;34m,\u001b[0m \u001b[0;34m'volatility_short'\u001b[0m\u001b[0;34m,\u001b[0m \u001b[0;34m'roc'\u001b[0m\u001b[0;34m,\u001b[0m \u001b[0;34m'rsi'\u001b[0m\u001b[0;34m,\u001b[0m \u001b[0;34m'mfi'\u001b[0m\u001b[0;34m,\u001b[0m \u001b[0;34m'sto'\u001b[0m\u001b[0;34m,\u001b[0m \u001b[0;34m'bba'\u001b[0m\u001b[0;34m,\u001b[0m \u001b[0;34m'dch'\u001b[0m\u001b[0;34m,\u001b[0m \u001b[0;34m'Volume'\u001b[0m\u001b[0;34m,\u001b[0m\u001b[0;34m'Close'\u001b[0m\u001b[0;34m,\u001b[0m \u001b[0;34m'strategy'\u001b[0m\u001b[0;34m]\u001b[0m\u001b[0;34m\u001b[0m\u001b[0;34m\u001b[0m\u001b[0m\n\u001b[1;32m      4\u001b[0m \u001b[0;34m\u001b[0m\u001b[0m\n\u001b[0;32m----> 5\u001b[0;31m \u001b[0msignals\u001b[0m\u001b[0;34m.\u001b[0m\u001b[0mgenerate_signals\u001b[0m\u001b[0;34m(\u001b[0m\u001b[0mcols\u001b[0m\u001b[0;34m,\u001b[0m \u001b[0mmodel_file\u001b[0m\u001b[0;34m=\u001b[0m\u001b[0;34m'rfc_mr.joblib'\u001b[0m \u001b[0;34m,\u001b[0m\u001b[0mml_metafile\u001b[0m\u001b[0;34m=\u001b[0m\u001b[0;34m'ml_metadata_mr.pkl'\u001b[0m\u001b[0;34m,\u001b[0m \u001b[0mstrategy_type\u001b[0m\u001b[0;34m=\u001b[0m\u001b[0;34m'mean_reversion'\u001b[0m\u001b[0;34m)\u001b[0m\u001b[0;34m\u001b[0m\u001b[0;34m\u001b[0m\u001b[0m\n\u001b[0m",
      "\u001b[0;32m~/git_repos/OptionsStrategy/swinging/signals.py\u001b[0m in \u001b[0;36mgenerate_signals\u001b[0;34m(cols, model_file, ml_metafile, days_lookback, pred_thresh, num_positions, indicator_data, strategy_type)\u001b[0m\n\u001b[1;32m     99\u001b[0m     \u001b[0mfolder\u001b[0m \u001b[0;34m=\u001b[0m \u001b[0;34mf'signals/{strategy_type}/plots'\u001b[0m\u001b[0;34m\u001b[0m\u001b[0;34m\u001b[0m\u001b[0m\n\u001b[1;32m    100\u001b[0m     \u001b[0mplot_entry_symbols\u001b[0m\u001b[0;34m(\u001b[0m\u001b[0mentry_symbols\u001b[0m\u001b[0;34m,\u001b[0m \u001b[0mdf\u001b[0m\u001b[0;34m,\u001b[0m \u001b[0mfolder\u001b[0m\u001b[0;34m)\u001b[0m\u001b[0;34m\u001b[0m\u001b[0;34m\u001b[0m\u001b[0m\n\u001b[0;32m--> 101\u001b[0;31m     \u001b[0mpositions\u001b[0m \u001b[0;34m=\u001b[0m \u001b[0mget_positions\u001b[0m\u001b[0;34m(\u001b[0m\u001b[0;34m)\u001b[0m\u001b[0;34m\u001b[0m\u001b[0;34m\u001b[0m\u001b[0m\n\u001b[0m\u001b[1;32m    102\u001b[0m     exits.loc[exits.symbol.isin(positions.symbol.values)][cols].to_csv(f'signals/{strategy_type}/position_exits.csv',\n\u001b[1;32m    103\u001b[0m                                                                        index=False)\n",
      "\u001b[0;32m~/git_repos/OptionsStrategy/swinging/signals.py\u001b[0m in \u001b[0;36mget_positions\u001b[0;34m()\u001b[0m\n\u001b[1;32m     20\u001b[0m     \u001b[0mpositions_app\u001b[0m\u001b[0;34m.\u001b[0m\u001b[0mget_positions\u001b[0m\u001b[0;34m(\u001b[0m\u001b[0;34m)\u001b[0m\u001b[0;34m\u001b[0m\u001b[0;34m\u001b[0m\u001b[0m\n\u001b[1;32m     21\u001b[0m     \u001b[0mpositions_app\u001b[0m\u001b[0;34m.\u001b[0m\u001b[0mrun\u001b[0m\u001b[0;34m(\u001b[0m\u001b[0;34m)\u001b[0m\u001b[0;34m\u001b[0m\u001b[0;34m\u001b[0m\u001b[0m\n\u001b[0;32m---> 22\u001b[0;31m     \u001b[0;32mreturn\u001b[0m \u001b[0mpositions_app\u001b[0m\u001b[0;34m.\u001b[0m\u001b[0mpositions_df\u001b[0m\u001b[0;34m.\u001b[0m\u001b[0mloc\u001b[0m\u001b[0;34m[\u001b[0m\u001b[0mpositions_app\u001b[0m\u001b[0;34m.\u001b[0m\u001b[0mpositions_df\u001b[0m\u001b[0;34m.\u001b[0m\u001b[0mposition\u001b[0m \u001b[0;34m!=\u001b[0m \u001b[0;36m0\u001b[0m\u001b[0;34m]\u001b[0m\u001b[0;34m\u001b[0m\u001b[0;34m\u001b[0m\u001b[0m\n\u001b[0m\u001b[1;32m     23\u001b[0m \u001b[0;34m\u001b[0m\u001b[0m\n\u001b[1;32m     24\u001b[0m \u001b[0;32mdef\u001b[0m \u001b[0mload_profits\u001b[0m\u001b[0;34m(\u001b[0m\u001b[0mfill_na_dict\u001b[0m\u001b[0;34m,\u001b[0m \u001b[0mstrategy_index\u001b[0m\u001b[0;34m,\u001b[0m \u001b[0mfeat_col\u001b[0m\u001b[0;34m,\u001b[0m \u001b[0mprofit_folder\u001b[0m\u001b[0;34m=\u001b[0m\u001b[0;34m'profit_reports/mean_reversion'\u001b[0m\u001b[0;34m)\u001b[0m\u001b[0;34m:\u001b[0m\u001b[0;34m\u001b[0m\u001b[0;34m\u001b[0m\u001b[0m\n",
      "\u001b[0;31mAttributeError\u001b[0m: 'NoneType' object has no attribute 'loc'"
     ]
    }
   ],
   "source": [
    "from swinging import signals\n",
    "\n",
    "cols = ['date', 'symbol', 'pred', 'pred_score', 'volatility', 'volatility_short', 'roc', 'rsi', 'mfi', 'sto', 'bba', 'dch', 'Volume','Close', 'strategy']\n",
    "\n",
    "signals.generate_signals(cols, model_file='rfc_mr.joblib' ,ml_metafile='ml_metadata_mr.pkl', strategy_type='mean_reversion')"
   ]
  },
  {
   "cell_type": "code",
   "execution_count": 4,
   "metadata": {},
   "outputs": [
    {
     "name": "stderr",
     "output_type": "stream",
     "text": [
      "/Users/brianmcclanahan/opt/anaconda3/lib/python3.7/site-packages/pandas/core/indexing.py:844: SettingWithCopyWarning:\n",
      "\n",
      "\n",
      "A value is trying to be set on a copy of a slice from a DataFrame.\n",
      "Try using .loc[row_indexer,col_indexer] = value instead\n",
      "\n",
      "See the caveats in the documentation: https://pandas.pydata.org/pandas-docs/stable/user_guide/indexing.html#returning-a-view-versus-a-copy\n",
      "\n",
      "/Users/brianmcclanahan/opt/anaconda3/lib/python3.7/site-packages/pandas/core/indexing.py:965: SettingWithCopyWarning:\n",
      "\n",
      "\n",
      "A value is trying to be set on a copy of a slice from a DataFrame.\n",
      "Try using .loc[row_indexer,col_indexer] = value instead\n",
      "\n",
      "See the caveats in the documentation: https://pandas.pydata.org/pandas-docs/stable/user_guide/indexing.html#returning-a-view-versus-a-copy\n",
      "\n",
      "ERROR -1 2104 Market data farm connection is OK:usfuture\n",
      "ERROR -1 2104 Market data farm connection is OK:usopt\n",
      "ERROR -1 2104 Market data farm connection is OK:usfarm\n",
      "ERROR -1 2106 HMDS data farm connection is OK:euhmds\n",
      "ERROR -1 2106 HMDS data farm connection is OK:fundfarm\n",
      "ERROR -1 2106 HMDS data farm connection is OK:ushmds\n",
      "ERROR -1 2158 Sec-def data farm connection is OK:secdefnj\n"
     ]
    },
    {
     "name": "stdout",
     "output_type": "stream",
     "text": [
      "Position. Account: U3443642 Symbol: THO SecType: STK Currency: USD Position: 1.0 Avg cost: 103.26\n",
      "Position. Account: U3443642 Symbol: SWN SecType: STK Currency: USD Position: 0.0 Avg cost: 0.0\n",
      "Position. Account: U3443642 Symbol: RP SecType: STK Currency: USD Position: 1.0 Avg cost: 88.5568\n",
      "Position. Account: U3443642 Symbol: APA SecType: STK Currency: USD Position: 7.0 Avg cost: 14.3622\n",
      "Position. Account: U3443642 Symbol: PXD SecType: STK Currency: USD Position: 1.0 Avg cost: 112.655\n",
      "Position. Account: U3443642 Symbol: AAPL SecType: OPT Currency: USD Position: 1.0 Avg cost: 149.9738\n",
      "Position. Account: U3443642 Symbol: TENB SecType: STK Currency: USD Position: 2.0 Avg cost: 52.85\n",
      "Position. Account: U3443642 Symbol: MUR SecType: STK Currency: USD Position: 7.0 Avg cost: 12.2109\n",
      "Position. Account: U3443642 Symbol: CAR SecType: STK Currency: USD Position: 3.0 Avg cost: 36.11333335\n",
      "Position. Account: U3443642 Symbol: FEYE SecType: STK Currency: USD Position: 5.0 Avg cost: 18.2204\n",
      "Position. Account: U3443642 Symbol: VER SecType: STK Currency: USD Position: 3.0 Avg cost: 36.31333335\n",
      "Position. Account: U3443642 Symbol: AAPL SecType: OPT Currency: USD Position: -1.0 Avg cost: 101.0219458\n",
      "Position. Account: U3443642 Symbol: WPX SecType: STK Currency: USD Position: 12.0 Avg cost: 8.09515\n",
      "Position. Account: U3443642 Symbol: MES SecType: FUT Currency: USD Position: 0.0 Avg cost: 0.0\n",
      "Position. Account: U3443642 Symbol: SPCE SecType: STK Currency: USD Position: 4.0 Avg cost: 25.76\n",
      "Position. Account: U3443642 Symbol: BE SecType: STK Currency: USD Position: 3.0 Avg cost: 30.32526665\n",
      "Position. Account: U3443642 Symbol: PE SecType: STK Currency: USD Position: 7.0 Avg cost: 13.9279\n",
      "Position. Account: U3443642 Symbol: FCEL SecType: STK Currency: USD Position: 9.0 Avg cost: 11.9184111\n",
      "Position. Account: U3443642 Symbol: PACB SecType: STK Currency: USD Position: 0.0 Avg cost: 0.0\n",
      "Position. Account: U3443642 Symbol: SYNA SecType: STK Currency: USD Position: 1.0 Avg cost: 93.0715\n",
      "Position. Account: U3443642 Symbol: AJRD SecType: STK Currency: USD Position: 2.0 Avg cost: 52.84\n"
     ]
    }
   ],
   "source": [
    "cols = ['date', 'symbol', 'pred', 'pred_score', 'volatility', 'volatility_short', 'macd_diff', 'bba', 'Close', 'Volume', 'EarningsPerShareBasic', 'strategy']\n",
    "signals.generate_signals(cols, model_file='rfc_trend.joblib' ,ml_metafile='ml_metadata_trend.pkl', strategy_type='trend')"
   ]
  },
  {
   "cell_type": "code",
   "execution_count": null,
   "metadata": {},
   "outputs": [],
   "source": []
  }
 ],
 "metadata": {
  "kernelspec": {
   "display_name": "Python 3",
   "language": "python",
   "name": "python3"
  },
  "language_info": {
   "codemirror_mode": {
    "name": "ipython",
    "version": 3
   },
   "file_extension": ".py",
   "mimetype": "text/x-python",
   "name": "python",
   "nbconvert_exporter": "python",
   "pygments_lexer": "ipython3",
   "version": "3.7.6"
  }
 },
 "nbformat": 4,
 "nbformat_minor": 4
}
