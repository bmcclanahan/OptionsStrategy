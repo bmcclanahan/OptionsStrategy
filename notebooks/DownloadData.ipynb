{
 "cells": [
  {
   "cell_type": "code",
   "execution_count": 1,
   "metadata": {},
   "outputs": [],
   "source": [
    "import pandas as pd\n",
    "import datetime as dt\n",
    "import requests_cache\n",
    "\n",
    "history_length = 5\n",
    "apikey = '5e225d64b14d31.07865608'\n",
    "symbol_df_path = 'ITOT_holdings.csv'"
   ]
  },
  {
   "cell_type": "code",
   "execution_count": 2,
   "metadata": {},
   "outputs": [],
   "source": [
    "from eod_historical_data import get_eod_data\n",
    "import requests\n",
    "import os\n",
    "import datetime as dt\n",
    "import requests_cache\n",
    "\n",
    "\n",
    "def get_symbol_data(symbol, history_length, apikey):\n",
    "    today = dt.datetime.now().strftime('%Y-%m-%d')\n",
    "    history = (dt.datetime.now() - dt.timedelta(days=365 * history_length)).strftime('%Y-%m-%d')\n",
    "    df = get_eod_data(symbol, 'US', start=history, end=today, api_key=apikey)\n",
    "    df.loc[:, 'symbol'] = symbol\n",
    "    factor = df.Adjusted_close / df.Close\n",
    "    df.loc[:, 'adj_close'] = df.Adjusted_close\n",
    "    df.loc[:, 'adj_open'] = df.Open * factor\n",
    "    df.loc[:, 'adj_high'] = df.High * factor\n",
    "    df.loc[:, 'adj_low'] = df.Low * factor\n",
    "    return df\n",
    "\n",
    "\n",
    "def download_symbols(api_key, history_length, output_dir, symbol_df,\n",
    "                     indices, failed_indices):\n",
    "    for index in indices:\n",
    "        row = symbol_df.iloc[index]\n",
    "        symbol = row.symbol\n",
    "        sector = row.sector\n",
    "        try:            \n",
    "            print('\\r%d: %s' % (index, symbol))\n",
    "            df = get_symbol_data(symbol, history_length, apikey)\n",
    "            df.loc[:, 'sector'] = sector\n",
    "            df.to_parquet('%s/%s.parquet' % (output_dir, symbol))\n",
    "        except:\n",
    "            print('failure occured')\n",
    "            failed_indices.append(index)\n",
    "\n",
    "            \n",
    "def download_data(history_length, apikey, symbol_df_path, output_dir='data', limit=1500):\n",
    "    expire_after = dt.timedelta(days=1)\n",
    "    session = requests_cache.CachedSession(cache_name='cache', backend='sqlite', expire_after=expire_after)\n",
    "    symbol_df = pd.read_csv(symbol_df_path).dropna().iloc[:limit]\n",
    "    failed_indices = []\n",
    "    download_symbols(apikey, history_length, output_dir, symbol_df,\n",
    "                     list(range(symbol_df.shape[0])), failed_indices)\n",
    "    if len(failed_indices) != 0:\n",
    "        print('retrying on failed symbols')\n",
    "        failed_indices2 = []\n",
    "        download_symbols(apikey, history_length, output_dir, symbol_df,\n",
    "                         failed_indices, failed_indices2)"
   ]
  },
  {
   "cell_type": "code",
   "execution_count": null,
   "metadata": {},
   "outputs": [],
   "source": [
    "download_data(history_length, apikey, symbol_df_path)"
   ]
  },
  {
   "cell_type": "code",
   "execution_count": 4,
   "metadata": {},
   "outputs": [],
   "source": [
    "import pandas as pd\n",
    "import os\n",
    "\n",
    "def combine_data(datadir='data', output_file='all_symbols.parquet'):\n",
    "    files = os.listdir(datadir)\n",
    "    dfs = []\n",
    "    cols = ['adj_close', 'adj_open', 'adj_low', 'adj_high', 'Close', 'symbol', 'sector', 'Date', 'Volume']\n",
    "    for f in files:\n",
    "        dfs.append(pd.read_parquet('%s/%s' % (datadir, f)).reset_index()[cols])\n",
    "    ttl_df = pd.concat(dfs, axis=0, ignore_index=True)\n",
    "    ttl_df.to_parquet(output_file)\n",
    "    "
   ]
  },
  {
   "cell_type": "code",
   "execution_count": 5,
   "metadata": {},
   "outputs": [],
   "source": [
    "combine_data()"
   ]
  },
  {
   "cell_type": "code",
   "execution_count": 6,
   "metadata": {},
   "outputs": [],
   "source": [
    "df = get_symbol_data('SPY', history_length, apikey)\n",
    "df.reset_index().to_parquet('market_index.parquet')"
   ]
  },
  {
   "cell_type": "code",
   "execution_count": 7,
   "metadata": {},
   "outputs": [],
   "source": [
    "import pandas as pd\n",
    "all_df = pd.read_parquet('all_symbols.parquet')\n",
    "sector_indices = all_df.groupby(['sector', 'Date']).agg({'adj_close': 'sum'}).reset_index()"
   ]
  },
  {
   "cell_type": "code",
   "execution_count": 8,
   "metadata": {},
   "outputs": [],
   "source": [
    "sector_indices.to_parquet('sector_index.parquet')"
   ]
  },
  {
   "cell_type": "code",
   "execution_count": null,
   "metadata": {},
   "outputs": [],
   "source": []
  }
 ],
 "metadata": {
  "kernelspec": {
   "display_name": "Python 3",
   "language": "python",
   "name": "python3"
  },
  "language_info": {
   "codemirror_mode": {
    "name": "ipython",
    "version": 3
   },
   "file_extension": ".py",
   "mimetype": "text/x-python",
   "name": "python",
   "nbconvert_exporter": "python",
   "pygments_lexer": "ipython3",
   "version": "3.7.6"
  }
 },
 "nbformat": 4,
 "nbformat_minor": 4
}
