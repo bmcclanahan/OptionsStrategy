{
 "cells": [
  {
   "cell_type": "code",
   "execution_count": 1,
   "metadata": {},
   "outputs": [],
   "source": [
    "import os\n",
    "\n",
    "os.chdir('/Users/brianmcclanahan/git_repos/StrategyPortfolioTrading/portfolios/sml_equity')"
   ]
  },
  {
   "cell_type": "code",
   "execution_count": 2,
   "metadata": {},
   "outputs": [],
   "source": [
    "feat_col = ['rsi', 'roc', 'mfi', 'sto', 'bba', 'dch',\n",
    "            'sector_ma_diff_norm', 'roc_short',\n",
    "            'volatility', 'equity_curve_ratio', 'Volume', 'adj_close', 'Close',\n",
    "            ] # 'CommonStockSharesOutstanding', 'EarningsPerShareBasic', 'MarketCap'"
   ]
  },
  {
   "cell_type": "code",
   "execution_count": 3,
   "metadata": {},
   "outputs": [],
   "source": [
    "strategy_index = {'MFI': 0, 'STO': 1, 'RSI': 2}"
   ]
  },
  {
   "cell_type": "code",
   "execution_count": 4,
   "metadata": {},
   "outputs": [],
   "source": [
    "fill_na_dict = {'rsi': 100, 'roc': 0, 'mfi': 100, 'sto': 100}"
   ]
  },
  {
   "cell_type": "code",
   "execution_count": 5,
   "metadata": {},
   "outputs": [],
   "source": [
    "ml_metadata = {'feat_col': feat_col, 'strategy_index': strategy_index, 'fill_na_dict': fill_na_dict}\n"
   ]
  },
  {
   "cell_type": "code",
   "execution_count": 6,
   "metadata": {},
   "outputs": [],
   "source": [
    "import pickle\n",
    "\n",
    "with open('ml_metadata_mr.pkl', 'wb') as ml_meta_file:\n",
    "    pickle.dump(ml_metadata, ml_meta_file)"
   ]
  },
  {
   "cell_type": "code",
   "execution_count": 7,
   "metadata": {},
   "outputs": [],
   "source": [
    "import os\n",
    "import pandas as pd\n",
    "\n",
    "def load_profits(fill_na_dict, strategy_index, profit_folder='profit_reports/mean_reversion'):\n",
    "    profit_files = [x for x in os.listdir(profit_folder) if x.endswith('.parquet')]\n",
    "    all_cols = feat_col + ['symbol', 'date', 'norm_profit', 'actual_enter', 'actual_exit', 'exits', 'volatility_short']\n",
    "    dfs = {x.split('_')[0]: pd.read_parquet('%s/%s' % (profit_folder, x))[all_cols] for x in profit_files}\n",
    "    for key in dfs:\n",
    "        dfs[key].loc[:, 'strategy_ind'] = strategy_index[key]\n",
    "    df = pd.concat([dfs[x].fillna(fill_na_dict) for x in dfs], axis=0, ignore_index=True)\n",
    "    return df"
   ]
  },
  {
   "cell_type": "code",
   "execution_count": 8,
   "metadata": {},
   "outputs": [],
   "source": [
    "df = load_profits(fill_na_dict, strategy_index)"
   ]
  },
  {
   "cell_type": "code",
   "execution_count": 9,
   "metadata": {},
   "outputs": [],
   "source": [
    "import numpy as np\n",
    "import datetime as dt\n",
    "\n",
    "def get_ml_data(feature_df, feat_col,\n",
    "                train_date_range=(dt.datetime(2000, 1, 1), dt.datetime(2014, 12, 31)),\n",
    "                test_date_range=(dt.datetime(2015, 1, 1), dt.datetime(2021, 1, 1))):\n",
    "    feature_df = feature_df.loc[feature_df.actual_enter == 1]\n",
    "    aux_cols = ['date', 'symbol', 'actual_enter', 'norm_profit', 'actual_exit', 'strategy_ind']\n",
    "    feats = feature_df.loc[:, feat_col + aux_cols + ['norm_profit']]\\\n",
    "                      .sort_values('date')\n",
    "    all_data = feature_df.loc[:, feat_col + aux_cols]\n",
    "    all_aux = feature_df.loc[:, aux_cols]\n",
    "    norm_profits = feats.norm_profit\n",
    "    target = (norm_profits > 0).astype(int)\n",
    "    train_index = feats['date'].between(*train_date_range).values\n",
    "    test_index = feats['date'].between(*test_date_range).values\n",
    "    train_aux = feats.loc[train_index, aux_cols]\n",
    "    test_aux = feats.loc[test_index, aux_cols]\n",
    "    feats = feats[feat_col]\n",
    "    train_x = feats.loc[train_index]\n",
    "    train_y = target.loc[train_index]\n",
    "    test_x = feats.loc[test_index]\n",
    "    test_y = target.loc[test_index]\n",
    "    data_dict = {\n",
    "        'train_x': train_x, 'train_y': train_y,\n",
    "        'test_x': test_x, 'test_y': test_y,\n",
    "        'train_aux': train_aux,\n",
    "        'test_aux': test_aux,\n",
    "        'all_data': all_data,\n",
    "        'all_aux': all_aux,\n",
    "        'ml_cols': feat_col\n",
    "    }\n",
    "    return data_dict"
   ]
  },
  {
   "cell_type": "code",
   "execution_count": 10,
   "metadata": {},
   "outputs": [],
   "source": [
    "data_dict = get_ml_data(df, feat_col)"
   ]
  },
  {
   "cell_type": "code",
   "execution_count": 11,
   "metadata": {},
   "outputs": [
    {
     "data": {
      "text/plain": [
       "0.35912098684747973"
      ]
     },
     "execution_count": 11,
     "metadata": {},
     "output_type": "execute_result"
    }
   ],
   "source": [
    "from sklearn.ensemble import RandomForestClassifier\n",
    "\n",
    "rfc = RandomForestClassifier(n_estimators=200, criterion='gini', max_depth=5)#, class_weight='balanced')\n",
    "rfc = rfc.fit(data_dict['train_x'].fillna(0), data_dict['train_y'])#, sample_weight=np.abs(data_dict['train_aux']['norm_profit'].values))\n",
    "1- rfc.score(data_dict['train_x'].fillna(0), data_dict['train_y'])#0.2948670645686381"
   ]
  },
  {
   "cell_type": "code",
   "execution_count": 12,
   "metadata": {},
   "outputs": [
    {
     "data": {
      "text/plain": [
       "0.43853294091011996"
      ]
     },
     "execution_count": 12,
     "metadata": {},
     "output_type": "execute_result"
    }
   ],
   "source": [
    "1- rfc.score(data_dict['test_x'].fillna(0), data_dict['test_y']) # 0.3261664800298619"
   ]
  },
  {
   "cell_type": "code",
   "execution_count": null,
   "metadata": {},
   "outputs": [],
   "source": [
    "np.array(feat_col)[np.argsort(rfc.feature_importances_)], len(rfc.feature_importances_)"
   ]
  },
  {
   "cell_type": "code",
   "execution_count": null,
   "metadata": {},
   "outputs": [],
   "source": [
    "np.array(feat_col)[np.argsort(rfc.feature_importances_)]"
   ]
  },
  {
   "cell_type": "markdown",
   "metadata": {},
   "source": [
    "### Don't run the cell below if testing"
   ]
  },
  {
   "cell_type": "code",
   "execution_count": 13,
   "metadata": {},
   "outputs": [
    {
     "data": {
      "text/plain": [
       "0.3930486358244365"
      ]
     },
     "execution_count": 13,
     "metadata": {},
     "output_type": "execute_result"
    }
   ],
   "source": [
    "import numpy as np\n",
    "from sklearn.ensemble import RandomForestClassifier\n",
    "\n",
    "rfc = RandomForestClassifier(n_estimators=200, criterion='gini', max_depth=5)#, class_weight='balanced')\n",
    "\n",
    "all_data = np.vstack((data_dict['train_x'].fillna(0), data_dict['test_x'].fillna(0)))\n",
    "all_labels = np.vstack((data_dict['train_y'].fillna(0), data_dict['test_y'].fillna(0)))\n",
    "rfc = rfc.fit(all_data, all_labels)\n",
    "1 - rfc.score(all_data, all_labels)"
   ]
  },
  {
   "cell_type": "code",
   "execution_count": 14,
   "metadata": {},
   "outputs": [],
   "source": [
    "all_data = data_dict['all_data']\n",
    "all_data_entries = all_data.loc[:, data_dict['ml_cols']]\n",
    "all_preds = rfc.predict_proba(all_data_entries.fillna(0))[0][:, 1]"
   ]
  },
  {
   "cell_type": "code",
   "execution_count": 15,
   "metadata": {},
   "outputs": [],
   "source": [
    "import pandas as pd\n",
    "\n",
    "eval_tr = data_dict['all_data'].copy()\n",
    "data_dict['all_aux'] = data_dict['all_aux'].drop('norm_profit', axis=1)\n",
    "data_dict['all_aux'] = data_dict['all_aux'].drop('date', axis=1)\n",
    "eval_tr.loc[:, 'preds'] = all_preds\n",
    "eval_tr = pd.concat((eval_tr , data_dict['all_aux']),axis=1)"
   ]
  },
  {
   "cell_type": "code",
   "execution_count": 16,
   "metadata": {},
   "outputs": [],
   "source": [
    "def make_backtest_df(pred_df, feature_df):\n",
    "    feature_df.loc[pred_df.index, 'pred_score'] = pred_df.preds.values\n",
    "    return feature_df.reset_index(drop=True)"
   ]
  },
  {
   "cell_type": "code",
   "execution_count": 17,
   "metadata": {},
   "outputs": [],
   "source": [
    "backtest_df = make_backtest_df(eval_tr, df)"
   ]
  },
  {
   "cell_type": "code",
   "execution_count": 18,
   "metadata": {},
   "outputs": [],
   "source": [
    "time_df = backtest_df.loc[backtest_df['date'] >= dt.datetime(2002, 1, 1)]\n",
    "time_df.loc[(time_df.actual_enter == 1) | (time_df.exits == 1)].to_parquet('backtesting/mean_reversion/small_mid_lrg_cap_signals.parquet')\n",
    "time_df[['date']].drop_duplicates().sort_values('date').to_parquet('backtesting/mean_reversion/small_mid_lrg_cap_dt_rng.parquet')"
   ]
  },
  {
   "cell_type": "code",
   "execution_count": 19,
   "metadata": {},
   "outputs": [
    {
     "data": {
      "text/plain": [
       "['rfc_mr.joblib']"
      ]
     },
     "execution_count": 19,
     "metadata": {},
     "output_type": "execute_result"
    }
   ],
   "source": [
    "from joblib import dump, load\n",
    "\n",
    "dump(rfc, 'rfc_mr.joblib')"
   ]
  },
  {
   "cell_type": "code",
   "execution_count": null,
   "metadata": {},
   "outputs": [],
   "source": [
    "import plotly.graph_objects as go\n",
    "\n",
    "test_df = eval_tr.loc[eval_tr.norm_profit.notnull() & (eval_tr['date'] > dt.datetime(2011, 1, 1))]\n",
    "\n",
    "fig = go.Figure()\n",
    "fig.add_trace(\n",
    "    go.Scattergl(x=test_df.preds, y=test_df.norm_profit, mode='markers')\n",
    ")\n",
    "fig"
   ]
  },
  {
   "cell_type": "code",
   "execution_count": null,
   "metadata": {},
   "outputs": [],
   "source": [
    "eval_tr"
   ]
  },
  {
   "cell_type": "code",
   "execution_count": null,
   "metadata": {},
   "outputs": [],
   "source": []
  }
 ],
 "metadata": {
  "kernelspec": {
   "display_name": "Python 3",
   "language": "python",
   "name": "python3"
  },
  "language_info": {
   "codemirror_mode": {
    "name": "ipython",
    "version": 3
   },
   "file_extension": ".py",
   "mimetype": "text/x-python",
   "name": "python",
   "nbconvert_exporter": "python",
   "pygments_lexer": "ipython3",
   "version": "3.7.6"
  }
 },
 "nbformat": 4,
 "nbformat_minor": 4
}
