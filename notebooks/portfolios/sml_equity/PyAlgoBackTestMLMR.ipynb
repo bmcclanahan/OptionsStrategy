{
 "cells": [
  {
   "cell_type": "markdown",
   "metadata": {},
   "source": [
    "## Write Data to CSV"
   ]
  },
  {
   "cell_type": "code",
   "execution_count": 1,
   "metadata": {},
   "outputs": [],
   "source": [
    "import os\n",
    "os.chdir('/Users/brianmcclanahan/git_repos/StrategyPortfolioTrading/portfolios/sml_equity')"
   ]
  },
  {
   "cell_type": "code",
   "execution_count": 2,
   "metadata": {},
   "outputs": [],
   "source": [
    "import pandas as pd\n",
    "\n",
    "df_norm = pd.read_parquet('ta_data.parquet')"
   ]
  },
  {
   "cell_type": "code",
   "execution_count": 4,
   "metadata": {},
   "outputs": [],
   "source": [
    "df_norm.loc[:, 'date_formatted'] = df_norm.Date.dt.strftime('%Y-%m-%d %H:%M:%S')"
   ]
  },
  {
   "cell_type": "code",
   "execution_count": 5,
   "metadata": {},
   "outputs": [],
   "source": [
    "import numpy as np\n",
    "cols = ['symbol', 'date_formatted', 'adj_close', 'Volume', 'adj_open', 'adj_high', 'adj_low', 'adj_close']\n",
    "output_cols = ['symbol', 'Date Time', 'Adj Close', 'Volume', 'Open', 'High', 'Low', 'Close']\n",
    "df_reduced = df_norm[cols].reset_index(drop=True)\n",
    "df_reduced.columns = output_cols\n",
    "df_reduced.loc[:, 'High'] = np.maximum(\n",
    "    np.maximum(df_reduced.High, df_reduced.Open),\n",
    "    df_reduced.Close\n",
    ")\n",
    "df_reduced.loc[:, 'Low'] = np.minimum(\n",
    "    np.minimum(df_reduced.Low, df_reduced.Open),\n",
    "    df_reduced.Close\n",
    ")"
   ]
  },
  {
   "cell_type": "code",
   "execution_count": 6,
   "metadata": {},
   "outputs": [
    {
     "data": {
      "text/html": [
       "<div>\n",
       "<style scoped>\n",
       "    .dataframe tbody tr th:only-of-type {\n",
       "        vertical-align: middle;\n",
       "    }\n",
       "\n",
       "    .dataframe tbody tr th {\n",
       "        vertical-align: top;\n",
       "    }\n",
       "\n",
       "    .dataframe thead th {\n",
       "        text-align: right;\n",
       "    }\n",
       "</style>\n",
       "<table border=\"1\" class=\"dataframe\">\n",
       "  <thead>\n",
       "    <tr style=\"text-align: right;\">\n",
       "      <th></th>\n",
       "    </tr>\n",
       "  </thead>\n",
       "  <tbody>\n",
       "  </tbody>\n",
       "</table>\n",
       "</div>"
      ],
      "text/plain": [
       "Empty DataFrame\n",
       "Columns: []\n",
       "Index: []"
      ]
     },
     "execution_count": 6,
     "metadata": {},
     "output_type": "execute_result"
    }
   ],
   "source": [
    "csv_cols = ['Date Time', 'Open', 'High', 'Low', 'Close', 'Volume', 'Adj Close']\n",
    "df_reduced.groupby('symbol').apply(lambda x: x.to_csv('all_cap/%s.csv' % x.symbol.iloc[0], index=False))"
   ]
  },
  {
   "cell_type": "markdown",
   "metadata": {},
   "source": [
    "## Enter PyAlgo"
   ]
  },
  {
   "cell_type": "code",
   "execution_count": 7,
   "metadata": {},
   "outputs": [],
   "source": [
    "from pyalgotrade.barfeed.csvfeed import GenericBarFeed\n",
    "from pyalgotrade.bar import Frequency\n",
    "\n",
    "barfeed = GenericBarFeed(Frequency.DAY)"
   ]
  },
  {
   "cell_type": "code",
   "execution_count": 8,
   "metadata": {},
   "outputs": [],
   "source": [
    "\n",
    "import os\n",
    "\n",
    "base_dirs = ['all_cap']\n",
    "\n",
    "symbols = []\n",
    "symbol_set = set([])\n",
    "\n",
    "failed_symbols = []\n",
    "\n",
    "for base_dir in base_dirs:\n",
    "    for f in os.listdir(base_dir)[:]:\n",
    "        symbol = f.split('.')[0]\n",
    "        if symbol not in symbol_set:\n",
    "            try:\n",
    "                symbol_set.add(symbol)\n",
    "                symbols.append(symbol)\n",
    "                barfeed.addBarsFromCSV(symbol, '%s/%s' % (base_dir, f))\n",
    "            except:\n",
    "                failed_symbols.append(symbol)"
   ]
  },
  {
   "cell_type": "code",
   "execution_count": 9,
   "metadata": {},
   "outputs": [
    {
     "data": {
      "text/plain": [
       "1"
      ]
     },
     "execution_count": 9,
     "metadata": {},
     "output_type": "execute_result"
    }
   ],
   "source": [
    "len(failed_symbols)"
   ]
  },
  {
   "cell_type": "code",
   "execution_count": 10,
   "metadata": {},
   "outputs": [],
   "source": [
    "from pyalgotrade import strategy\n",
    "import numpy as np\n",
    "import logging\n",
    "import datetime as dt\n",
    "\n",
    "class MRStrategy(strategy.BacktestingStrategy):\n",
    "    def __init__(self, feed, entries, exits, equity_df,\n",
    "                 score_sort=True,\n",
    "                 pos_size=0.05, max_positions=2,\n",
    "                 hold_period=100, stop=1.0,\n",
    "                 cash_or_brk = 50000,\n",
    "                 trail_stop = False,\n",
    "                 weight_pos = True, drawdown_tresh=0.2,\n",
    "                 drawdown_timeout=0,\n",
    "                 loglevel=logging.ERROR):\n",
    "        super(MRStrategy, self).__init__(feed, cash_or_brk=cash_or_brk)\n",
    "        logger = self.getLogger()\n",
    "        logger.setLevel(loglevel)\n",
    "        self.max_positions = max_positions\n",
    "        self.stop = stop\n",
    "        self.hold_period = hold_period\n",
    "        self.score_sort = score_sort\n",
    "        self.trail_stop = trail_stop\n",
    "        self.equity_df = equity_df\n",
    "        self.pos_size = pos_size\n",
    "        self.weight_pos = weight_pos\n",
    "        self.drawdown_tresh = drawdown_tresh\n",
    "        self.date_allowance = entries['date'].min()\n",
    "        self.drawdown_timeout = drawdown_timeout\n",
    "        self.__position = {}\n",
    "        self.__position_hold = {}\n",
    "        self.__position_strategy = {}\n",
    "        self.__position_peak = {}\n",
    "        self.__instruments = feed.getRegisteredInstruments()\n",
    "        self.entries = entries.loc[entries.symbol.isin(self.__instruments)]\n",
    "        self.exits = exits.loc[exits.symbol.isin(self.__instruments)]\n",
    "        self.__tgt_pos_size = pos_size\n",
    "        self.max_equity = 0\n",
    "        self.getBroker().getFillStrategy().setVolumeLimit(None)\n",
    "        for instrument in self.__instruments:\n",
    "            self.__position[instrument] = None\n",
    "            self.__position_hold[instrument] = 0\n",
    "            self.__position_peak[instrument] = None\n",
    "            \n",
    "    def __clear_position(self, instrument):\n",
    "        self.__position[instrument] = None\n",
    "        self.__position_hold[instrument] = None\n",
    "        self.__position_strategy[instrument] = None\n",
    "        self.__position_peak[instrument] = None\n",
    "        \n",
    "    def onEnterOk(self, position):\n",
    "        instrument = position.getInstrument()\n",
    "        execInfo = position.getEntryOrder().getExecutionInfo()\n",
    "        #self.info(\"BUY %s at $%.2f\" % (instrument, execInfo.getPrice()))\n",
    "\n",
    "    def onEnterCanceled(self, position):\n",
    "        instrument = position.getInstrument()\n",
    "        self.__clear_position(instrument)\n",
    "\n",
    "    def onExitOk(self, position):\n",
    "        instrument = position.getInstrument()\n",
    "        execInfo = position.getExitOrder().getExecutionInfo()\n",
    "        #self.info(\"SELL %s at $%.2f\" % (instrument, execInfo.getPrice()))\n",
    "        self.__clear_position(instrument)\n",
    "        \n",
    "    def onExitCanceled(self, position):\n",
    "        # If the exit was canceled, re-submit it.\n",
    "        instrument = position.getInstrument()\n",
    "        self.__position[instrument].exitMarket()\n",
    "        \n",
    "    def checkEntry(self, bars, instrument, pos_size, cash_available):\n",
    "        bar = bars[instrument]\n",
    "        close = bar.getClose()\n",
    "        shares = int((self.getBroker().getEquity() * pos_size)/ close)\n",
    "        if (shares * close) > cash_available:\n",
    "            shares = 0\n",
    "        else:\n",
    "            cash_available -= shares * close\n",
    "        return shares, close, cash_available\n",
    "    \n",
    "    def checkExit(self, bars, instrument, exit_df):\n",
    "        exit = False\n",
    "        bar = bars[instrument]\n",
    "        close = bar.getClose()\n",
    "        if close > self.__position_peak[instrument] and self.trail_stop:\n",
    "            self.__position_peak[instrument] = close\n",
    "        exec_info = self.__position[instrument].getEntryOrder().getExecutionInfo()\n",
    "        if exec_info is not None:\n",
    "            entry_price = exec_info.getPrice()\n",
    "            exit = ((self.__position_peak[instrument] - close) / self.__position_peak[instrument]) > self.stop\n",
    "            exit = exit or (self.__position_hold[instrument] < 1)\n",
    "            exit = exit or (exit_df.shape[0] > 0)\n",
    "        return exit\n",
    "                \n",
    "    def onBars(self, bars):\n",
    "        current_dt = self.getCurrentDateTime()     \n",
    "        entries = self.entries.loc[(self.entries['date'] == current_dt)]\n",
    "        if current_dt == dt.datetime(2011, 1, 5):\n",
    "            self.info(entries[['symbol', 'strategy_ind', 'pred_score']])\n",
    "        if entries.shape[0] > 0:\n",
    "            if self.score_sort == True:\n",
    "                entries = entries.sort_values(['pred', 'volatility'], ascending=[False, False])\n",
    "                #entries = entries.sort_values(['volatility'], ascending=[False])\n",
    "            instruments_avail = entries.drop_duplicates(\n",
    "                subset=['symbol'], keep='first'\n",
    "            )[['symbol', 'strategy_ind', 'pred_score', 'volatility']].iloc[:self.max_positions]\n",
    "            agg_score = instruments_avail.pred_score.sum()\n",
    "            cash_available = self.getBroker().getCash()\n",
    "            for ind in instruments_avail.index:\n",
    "                sym = instruments_avail.loc[ind, 'symbol']\n",
    "                strategy = instruments_avail.loc[ind, 'strategy_ind']\n",
    "                pred_score = instruments_avail.loc[ind, 'pred_score']\n",
    "                if self.__position[sym] is None:\n",
    "                    weight = pred_score / agg_score if self.weight_pos else 1 / instruments_avail.shape[0]\n",
    "                    weight *= self.pos_size * instruments_avail.shape[0]\n",
    "                    shares, close, cash_available = self.checkEntry(bars, sym, weight, cash_available)\n",
    "                    if shares > 0:\n",
    "                        self.__position[sym] = self.enterLong(sym, shares, True)\n",
    "                        self.__position_hold[sym] = self.hold_period\n",
    "                        self.__position_strategy[sym] = strategy\n",
    "                        self.__position_peak[sym] = close\n",
    "                        self.entries.loc[ind, 'selected'] = 1\n",
    "                \n",
    "        instruments_avail = bars.keys()\n",
    "        exits = self.exits.loc[self.exits['date'] == current_dt]\n",
    "        cur_equity = self.getBroker().getEquity()\n",
    "        max_equity = self.max_equity if self.max_equity > cur_equity else cur_equity\n",
    "        drawdown = 1 - (cur_equity / max_equity)\n",
    "        drawdown_hit = drawdown > self.drawdown_tresh\n",
    "        max_equity = max_equity if not drawdown_hit else cur_equity\n",
    "        if current_dt >= self.date_allowance:\n",
    "            for instrument in instruments_avail:\n",
    "                if self.__position[instrument] is not None:\n",
    "                    strategy = self.__position_strategy[instrument]\n",
    "                    exit_df = exits.loc[(exits.symbol == instrument) & (exits.strategy_ind == strategy)]\n",
    "                    self.__position_hold[instrument] -= 1\n",
    "                    exit = self.checkExit(bars, instrument, exit_df) or drawdown_hit\n",
    "                    if exit and not self.__position[instrument].exitActive():\n",
    "                        self.__position[instrument].exitMarket()\n",
    "        if drawdown_hit:\n",
    "            self.date_allowance = current_dt + dt.timedelta(days=self.drawdown_timeout)\n",
    "        positions = self.getBroker().getPositions()\n",
    "        self.max_equity = max_equity\n",
    "        self.equity_df.loc[current_dt, 'drawdown'] = drawdown\n",
    "        self.equity_df.loc[current_dt, 'drawdown_hit'] = drawdown_hit\n",
    "        self.equity_df.loc[current_dt, 'max_equity'] = max_equity\n",
    "        self.equity_df.loc[current_dt, 'equity'] = cur_equity\n",
    "        self.equity_df.loc[current_dt, 'positions'] = len(self.getBroker().getPositions())\n",
    "        self.equity_df.loc[current_dt, 'cash'] = self.getBroker().getCash()   "
   ]
  },
  {
   "cell_type": "code",
   "execution_count": 11,
   "metadata": {},
   "outputs": [
    {
     "name": "stderr",
     "output_type": "stream",
     "text": [
      "/Users/brianmcclanahan/opt/anaconda3/lib/python3.7/site-packages/pandas/core/indexing.py:844: SettingWithCopyWarning: \n",
      "A value is trying to be set on a copy of a slice from a DataFrame.\n",
      "Try using .loc[row_indexer,col_indexer] = value instead\n",
      "\n",
      "See the caveats in the documentation: https://pandas.pydata.org/pandas-docs/stable/user_guide/indexing.html#returning-a-view-versus-a-copy\n",
      "  self.obj[key] = _infer_fill_value(value)\n",
      "/Users/brianmcclanahan/opt/anaconda3/lib/python3.7/site-packages/pandas/core/indexing.py:965: SettingWithCopyWarning: \n",
      "A value is trying to be set on a copy of a slice from a DataFrame.\n",
      "Try using .loc[row_indexer,col_indexer] = value instead\n",
      "\n",
      "See the caveats in the documentation: https://pandas.pydata.org/pandas-docs/stable/user_guide/indexing.html#returning-a-view-versus-a-copy\n",
      "  self.obj[item] = s\n"
     ]
    },
    {
     "data": {
      "text/plain": [
       "0.2708071936428273"
      ]
     },
     "execution_count": 11,
     "metadata": {},
     "output_type": "execute_result"
    }
   ],
   "source": [
    "import pandas as pd\n",
    "import datetime as dt\n",
    "\n",
    "df = pd.read_parquet('backtesting/mean_reversion/small_mid_lrg_cap_signals.parquet')\n",
    "date_range = pd.read_parquet('backtesting/mean_reversion/small_mid_lrg_cap_dt_rng.parquet')\n",
    "df.loc[:, 'pred'] = 0\n",
    "df.loc[df.pred_score >= 0.65, 'pred'] = 1\n",
    "df = df.loc[df['date'] >= dt.datetime(2015, 1, 1)]\n",
    "#equity_df = pd.DataFrame({'dates': date_range['date'].unique()}).sort_values('dates').set_index('dates')\n",
    "equity_df = pd.DataFrame({'dates': date_range['date'].unique()}).sort_values('dates').set_index('dates')\n",
    "\n",
    "equity_df.loc[:, 'equity'] = 0\n",
    "entrances = df.loc[(df.actual_enter == 1)]\n",
    "entrances.loc[:, 'selected'] = 0\n",
    "exits = df.loc[df.exits == 1]\n",
    "entrances['date'].unique().shape[0] / date_range['date'].unique().shape[0]"
   ]
  },
  {
   "cell_type": "code",
   "execution_count": 12,
   "metadata": {},
   "outputs": [],
   "source": [
    "from pyalgotrade import plotter\n",
    "\n",
    "mr_strategy = MRStrategy(barfeed, entrances, exits, equity_df, score_sort=True, stop=1.0)"
   ]
  },
  {
   "cell_type": "code",
   "execution_count": 13,
   "metadata": {},
   "outputs": [],
   "source": [
    "from pyalgotrade.stratanalyzer import returns\n",
    "from pyalgotrade.stratanalyzer import trades\n",
    "from pyalgotrade.stratanalyzer import drawdown\n",
    "from pyalgotrade.stratanalyzer import sharpe\n",
    "\n",
    "returnsAnalyzer = returns.Returns(maxLen=365*40)\n",
    "tradesAnalyzer = trades.Trades()\n",
    "drawDownAnalyzer = drawdown.DrawDown()\n",
    "sharpAnalyzer= sharpe.SharpeRatio()\n",
    "mr_strategy.attachAnalyzer(returnsAnalyzer)\n",
    "mr_strategy.attachAnalyzer(tradesAnalyzer)\n",
    "mr_strategy.attachAnalyzer(drawDownAnalyzer)\n",
    "mr_strategy.attachAnalyzer(sharpAnalyzer)\n",
    "plt = plotter.StrategyPlotter(mr_strategy)"
   ]
  },
  {
   "cell_type": "code",
   "execution_count": 14,
   "metadata": {},
   "outputs": [
    {
     "name": "stderr",
     "output_type": "stream",
     "text": [
      "/Users/brianmcclanahan/opt/anaconda3/lib/python3.7/site-packages/pandas/core/indexing.py:965: SettingWithCopyWarning: \n",
      "A value is trying to be set on a copy of a slice from a DataFrame.\n",
      "Try using .loc[row_indexer,col_indexer] = value instead\n",
      "\n",
      "See the caveats in the documentation: https://pandas.pydata.org/pandas-docs/stable/user_guide/indexing.html#returning-a-view-versus-a-copy\n",
      "  self.obj[item] = s\n",
      "2015-02-03 00:00:00 broker.backtesting [DEBUG] Not enough cash to fill ACOR order [33] for 59 share/s\n",
      "2015-02-04 00:00:00 broker.backtesting [DEBUG] Not enough cash to fill LJPC order [35] for 126 share/s\n",
      "2015-05-28 00:00:00 broker.backtesting [DEBUG] Not enough cash to fill REFR order [183] for 496 share/s\n",
      "2015-05-29 00:00:00 broker.backtesting [DEBUG] Not enough cash to fill CRBP order [185] for 893 share/s\n",
      "2015-06-01 00:00:00 broker.backtesting [DEBUG] Not enough cash to fill CRBP order [185] for 893 share/s\n",
      "2015-06-08 00:00:00 broker.backtesting [DEBUG] Not enough cash to fill SHSP order [197] for 526 share/s\n",
      "2015-06-09 00:00:00 broker.backtesting [DEBUG] Not enough cash to fill KRMD order [199] for 6288 share/s\n",
      "2015-06-10 00:00:00 broker.backtesting [DEBUG] Not enough cash to fill KRMD order [199] for 6288 share/s\n",
      "2015-06-11 00:00:00 broker.backtesting [DEBUG] Not enough cash to fill ASMB order [203] for 190 share/s\n",
      "2015-06-12 00:00:00 broker.backtesting [DEBUG] Not enough cash to fill AMEH order [205] for 351 share/s\n",
      "2015-06-18 00:00:00 broker.backtesting [DEBUG] Not enough cash to fill AMEH order [205] for 351 share/s\n",
      "2015-06-19 00:00:00 broker.backtesting [DEBUG] Not enough cash to fill AMEH order [205] for 351 share/s\n",
      "2015-06-22 00:00:00 broker.backtesting [DEBUG] Not enough cash to fill AMEH order [205] for 351 share/s\n",
      "2015-11-17 00:00:00 broker.backtesting [DEBUG] Not enough cash to fill DHX order [373] for 348 share/s\n",
      "2015-11-18 00:00:00 broker.backtesting [DEBUG] Not enough cash to fill SLCT order [375] for 363 share/s\n",
      "2015-11-19 00:00:00 broker.backtesting [DEBUG] Not enough cash to fill RDI order [377] for 213 share/s\n",
      "2015-11-20 00:00:00 broker.backtesting [DEBUG] Not enough cash to fill RDI order [377] for 213 share/s\n",
      "2015-11-23 00:00:00 broker.backtesting [DEBUG] Not enough cash to fill RDI order [377] for 213 share/s\n",
      "2016-08-02 00:00:00 broker.backtesting [DEBUG] Not enough cash to fill IVAC order [635] for 564 share/s\n",
      "2016-08-03 00:00:00 broker.backtesting [DEBUG] Not enough cash to fill ANGO order [639] for 209 share/s\n",
      "2016-08-04 00:00:00 broker.backtesting [DEBUG] Not enough cash to fill FONR order [643] for 156 share/s\n",
      "2016-08-05 00:00:00 broker.backtesting [DEBUG] Not enough cash to fill FONR order [643] for 156 share/s\n",
      "2016-09-28 00:00:00 broker.backtesting [DEBUG] Not enough cash to fill MTEM order [704] for 267 share/s\n",
      "2016-09-29 00:00:00 broker.backtesting [DEBUG] Not enough cash to fill MTEM order [704] for 267 share/s\n",
      "2016-12-19 00:00:00 broker.backtesting [DEBUG] Not enough cash to fill KRO order [804] for 363 share/s\n",
      "2016-12-20 00:00:00 broker.backtesting [DEBUG] Not enough cash to fill KRO order [804] for 363 share/s\n",
      "2016-12-21 00:00:00 broker.backtesting [DEBUG] Not enough cash to fill KRO order [804] for 363 share/s\n",
      "2016-12-22 00:00:00 broker.backtesting [DEBUG] Not enough cash to fill KRO order [804] for 363 share/s\n",
      "2016-12-23 00:00:00 broker.backtesting [DEBUG] Not enough cash to fill KRO order [804] for 363 share/s\n",
      "2016-12-27 00:00:00 broker.backtesting [DEBUG] Not enough cash to fill CAI order [806] for 392 share/s\n",
      "2016-12-28 00:00:00 broker.backtesting [DEBUG] Not enough cash to fill EBMT order [808] for 186 share/s\n",
      "2016-12-29 00:00:00 broker.backtesting [DEBUG] Not enough cash to fill EBMT order [808] for 186 share/s\n",
      "2017-02-08 00:00:00 broker.backtesting [DEBUG] Not enough cash to fill PWFL order [857] for 630 share/s\n",
      "2017-02-09 00:00:00 broker.backtesting [DEBUG] Not enough cash to fill WTT order [860] for 2067 share/s\n",
      "2017-07-06 00:00:00 broker.backtesting [DEBUG] Not enough cash to fill ENOB order [1023] for 1774 share/s\n",
      "2017-07-14 00:00:00 broker.backtesting [DEBUG] Not enough cash to fill ENOB order [1023] for 1774 share/s\n",
      "2017-07-19 00:00:00 broker.backtesting [DEBUG] Not enough cash to fill VHC order [1036] for 859 share/s\n",
      "2017-07-20 00:00:00 broker.backtesting [DEBUG] Not enough cash to fill VHC order [1036] for 859 share/s\n",
      "2017-07-21 00:00:00 broker.backtesting [DEBUG] Not enough cash to fill VHC order [1036] for 859 share/s\n",
      "2017-07-24 00:00:00 broker.backtesting [DEBUG] Not enough cash to fill ULBI order [1038] for 514 share/s\n",
      "2017-07-25 00:00:00 broker.backtesting [DEBUG] Not enough cash to fill ULBI order [1038] for 514 share/s\n",
      "2017-07-26 00:00:00 broker.backtesting [DEBUG] Not enough cash to fill ULBI order [1038] for 514 share/s\n",
      "2017-07-27 00:00:00 broker.backtesting [DEBUG] Not enough cash to fill ZYXI order [1040] for 4741 share/s\n",
      "2017-07-28 00:00:00 broker.backtesting [DEBUG] Not enough cash to fill CDMO order [1042] for 1063 share/s\n",
      "2017-07-31 00:00:00 broker.backtesting [DEBUG] Not enough cash to fill CDMO order [1042] for 1063 share/s\n",
      "2017-08-01 00:00:00 broker.backtesting [DEBUG] Not enough cash to fill CDMO order [1042] for 1063 share/s\n",
      "2017-08-02 00:00:00 broker.backtesting [DEBUG] Not enough cash to fill CDMO order [1042] for 1063 share/s\n",
      "2017-08-03 00:00:00 broker.backtesting [DEBUG] Not enough cash to fill PFSW order [1044] for 441 share/s\n",
      "2017-08-04 00:00:00 broker.backtesting [DEBUG] Not enough cash to fill PFSW order [1044] for 441 share/s\n",
      "2017-08-07 00:00:00 broker.backtesting [DEBUG] Not enough cash to fill MBI order [1046] for 359 share/s\n",
      "2017-08-08 00:00:00 broker.backtesting [DEBUG] Not enough cash to fill VRS order [1049] for 953 share/s\n",
      "2017-08-09 00:00:00 broker.backtesting [DEBUG] Not enough cash to fill VRS order [1049] for 953 share/s\n",
      "2017-08-10 00:00:00 broker.backtesting [DEBUG] Not enough cash to fill VRS order [1049] for 953 share/s\n",
      "2017-08-11 00:00:00 broker.backtesting [DEBUG] Not enough cash to fill VRS order [1049] for 953 share/s\n",
      "2017-08-14 00:00:00 broker.backtesting [DEBUG] Not enough cash to fill VRS order [1049] for 953 share/s\n",
      "2017-08-15 00:00:00 broker.backtesting [DEBUG] Not enough cash to fill VRS order [1049] for 953 share/s\n",
      "2017-08-16 00:00:00 broker.backtesting [DEBUG] Not enough cash to fill VRS order [1049] for 953 share/s\n",
      "2017-08-17 00:00:00 broker.backtesting [DEBUG] Not enough cash to fill ORRF order [1054] for 152 share/s\n",
      "2017-08-21 00:00:00 broker.backtesting [DEBUG] Not enough cash to fill OVLY order [1058] for 230 share/s\n",
      "2017-08-22 00:00:00 broker.backtesting [DEBUG] Not enough cash to fill OVLY order [1058] for 230 share/s\n",
      "2017-08-23 00:00:00 broker.backtesting [DEBUG] Not enough cash to fill OVLY order [1058] for 230 share/s\n",
      "2017-08-24 00:00:00 broker.backtesting [DEBUG] Not enough cash to fill OVLY order [1058] for 230 share/s\n",
      "2017-12-11 00:00:00 broker.backtesting [DEBUG] Not enough cash to fill LIQT order [1193] for 2162 share/s\n",
      "2017-12-12 00:00:00 broker.backtesting [DEBUG] Not enough cash to fill LIQT order [1193] for 2162 share/s\n",
      "2017-12-13 00:00:00 broker.backtesting [DEBUG] Not enough cash to fill LFVN order [1195] for 835 share/s\n",
      "2017-12-14 00:00:00 broker.backtesting [DEBUG] Not enough cash to fill LFVN order [1195] for 835 share/s\n",
      "2017-12-15 00:00:00 broker.backtesting [DEBUG] Not enough cash to fill LFVN order [1195] for 835 share/s\n",
      "2017-12-18 00:00:00 broker.backtesting [DEBUG] Not enough cash to fill PTSI order [1197] for 126 share/s\n",
      "2017-12-19 00:00:00 broker.backtesting [DEBUG] Not enough cash to fill PTN order [1201] for 5116 share/s\n",
      "2018-04-13 00:00:00 broker.backtesting [DEBUG] Not enough cash to fill CENT order [1308] for 112 share/s\n",
      "2018-04-16 00:00:00 broker.backtesting [DEBUG] Not enough cash to fill MBII order [1310] for 2087 share/s\n",
      "2020-12-14 00:00:00 broker.backtesting [DEBUG] Not enough cash to fill PXLW order [2405] for 3156 share/s\n",
      "2020-12-15 00:00:00 broker.backtesting [DEBUG] Not enough cash to fill RRGB order [2408] for 427 share/s\n",
      "2020-12-16 00:00:00 broker.backtesting [DEBUG] Not enough cash to fill VTNR order [2410] for 12309 share/s\n"
     ]
    }
   ],
   "source": [
    "mr_strategy.run()"
   ]
  },
  {
   "cell_type": "code",
   "execution_count": null,
   "metadata": {},
   "outputs": [],
   "source": [
    "len(mr_strategy.getBroker().getPositions())"
   ]
  },
  {
   "cell_type": "code",
   "execution_count": null,
   "metadata": {},
   "outputs": [],
   "source": [
    "import numpy as np\n",
    "import pandas as pd\n",
    "import plotly\n",
    "from plotly.subplots import make_subplots\n",
    "import plotly.graph_objs as go\n",
    "\n",
    "def get_figure(sym, plt, rsi_strategy):\n",
    "    instr = plt.getInstrumentSubplot(sym)\n",
    "    instr_buy = instr.getSeries('Buy').getValues()\n",
    "    instr_sell = instr.getSeries('Sell').getValues()\n",
    "    bars = instr.getSeries(sym).getValues()\n",
    "    buy_date, buy_price = zip(*instr_buy.items())\n",
    "    sell_date, sell_price = zip(*instr_sell.items())\n",
    "    buy_df = pd.DataFrame(\n",
    "        {'buy_date': buy_date, 'buy_price': buy_price}\n",
    "    ).sort_values('buy_date')\n",
    "    sell_df = pd.DataFrame(\n",
    "        {'sell_date': sell_date, 'sell_price': sell_price}\n",
    "    ).sort_values('sell_date')\n",
    "    bar_dict = {\n",
    "        'open': [],\n",
    "        'close': [],\n",
    "        'high': [],\n",
    "        'low': [],\n",
    "        'bar_date': []\n",
    "    }\n",
    "    for dt in bars:\n",
    "        bar = bars[dt]\n",
    "        bar_dict['open'].append(bar.getOpen())\n",
    "        bar_dict['close'].append(bar.getClose())\n",
    "        bar_dict['high'].append(bar.getHigh())\n",
    "        bar_dict['low'].append(bar.getLow())\n",
    "        bar_dict['bar_date'].append(dt)\n",
    "    bar_df = pd.DataFrame(bar_dict).sort_values('bar_date')\n",
    "    fig = make_subplots(rows=1, cols=1, shared_xaxes=True)\n",
    "    fig.add_trace(\n",
    "        go.Candlestick(open=bar_df.open, high=bar_df.high, low=bar_df.low,\n",
    "                       close=bar_df.close, x=bar_df.bar_date, name='price'),\n",
    "        row=1,col=1\n",
    "    )\n",
    "    fig.add_trace(\n",
    "        go.Scatter(x=buy_df.buy_date, y=buy_df.buy_price, mode='markers', name='buy',\n",
    "                   marker=dict(color='blue')),\n",
    "        row=1, col=1\n",
    "    )\n",
    "    fig.add_trace(\n",
    "        go.Scatter(x=sell_df.sell_date, y=sell_df.sell_price, mode='markers', name='sell',\n",
    "                   marker=dict(color='red')),\n",
    "        row=1, col=1\n",
    "    )\n",
    "    fig.update_layout(xaxis_rangeslider_visible=False, title=sym)\n",
    "    return fig"
   ]
  },
  {
   "cell_type": "code",
   "execution_count": null,
   "metadata": {},
   "outputs": [],
   "source": [
    "fig = get_figure(symbols[3], plt, mr_strategy)\n",
    "fig"
   ]
  },
  {
   "cell_type": "code",
   "execution_count": null,
   "metadata": {},
   "outputs": [],
   "source": [
    "import matplotlib.pyplot as plt\n",
    "rsi = np.array(rsi_strategy.rsi['AAOI'])\n",
    "roc = np.array(rsi_strategy.roc['AAOI'])\n",
    "x = np.arange(rsi.shape[0])\n",
    "plt.plot(x, rsi)"
   ]
  },
  {
   "cell_type": "code",
   "execution_count": null,
   "metadata": {},
   "outputs": [],
   "source": [
    "plt.plot(x, roc)"
   ]
  },
  {
   "cell_type": "code",
   "execution_count": null,
   "metadata": {},
   "outputs": [],
   "source": [
    "import random\n",
    "random.shuffle(symbols)\n",
    "for sym in symbols[:30]:\n",
    "    fig = get_figure(sym, plt, rsi_strategy) \n",
    "    plotly.offline.plot(fig, filename = 'pyalgo_charts/rsi/%s.html' % sym, auto_open=False)"
   ]
  },
  {
   "cell_type": "code",
   "execution_count": 15,
   "metadata": {},
   "outputs": [],
   "source": [
    "import numpy as np\n",
    "cum_returns = np.array(returnsAnalyzer.getCumulativeReturns())\n",
    "returns = np.array(returnsAnalyzer.getReturns())"
   ]
  },
  {
   "cell_type": "code",
   "execution_count": 16,
   "metadata": {},
   "outputs": [
    {
     "data": {
      "text/plain": [
       "(1.3010534551558837, 2.303683208845461)"
      ]
     },
     "execution_count": 16,
     "metadata": {},
     "output_type": "execute_result"
    }
   ],
   "source": [
    "np.sum(returns), cum_returns[-1] #2.9, 9"
   ]
  },
  {
   "cell_type": "code",
   "execution_count": null,
   "metadata": {},
   "outputs": [],
   "source": [
    "np.sum(returns), cum_returns[-1]"
   ]
  },
  {
   "cell_type": "code",
   "execution_count": null,
   "metadata": {},
   "outputs": [],
   "source": [
    "np.sum(returns), cum_returns[-1]"
   ]
  },
  {
   "cell_type": "code",
   "execution_count": null,
   "metadata": {},
   "outputs": [],
   "source": [
    "np.sum(returns), cum_returns[-1]"
   ]
  },
  {
   "cell_type": "code",
   "execution_count": null,
   "metadata": {},
   "outputs": [],
   "source": [
    "np.sum(returns), cum_returns[-1]"
   ]
  },
  {
   "cell_type": "code",
   "execution_count": null,
   "metadata": {},
   "outputs": [],
   "source": [
    "np.sum(returns), cum_returns[-1]"
   ]
  },
  {
   "cell_type": "code",
   "execution_count": null,
   "metadata": {},
   "outputs": [],
   "source": [
    "np.sum(returns), cum_returns[-1]"
   ]
  },
  {
   "cell_type": "code",
   "execution_count": null,
   "metadata": {},
   "outputs": [],
   "source": [
    "np.sum(returns), cum_returns[-1]"
   ]
  },
  {
   "cell_type": "code",
   "execution_count": null,
   "metadata": {},
   "outputs": [],
   "source": [
    "np.sum(returns), cum_returns[-1]"
   ]
  },
  {
   "cell_type": "code",
   "execution_count": null,
   "metadata": {},
   "outputs": [],
   "source": [
    "np.sum(returns), cum_returns[-1]"
   ]
  },
  {
   "cell_type": "code",
   "execution_count": null,
   "metadata": {},
   "outputs": [],
   "source": [
    "np.sum(returns), cum_returns[-1]"
   ]
  },
  {
   "cell_type": "code",
   "execution_count": null,
   "metadata": {},
   "outputs": [],
   "source": [
    "np.sum(returns), cum_returns[-1]"
   ]
  },
  {
   "cell_type": "code",
   "execution_count": null,
   "metadata": {},
   "outputs": [],
   "source": [
    "np.sum(returns), cum_returns[-1]"
   ]
  },
  {
   "cell_type": "code",
   "execution_count": null,
   "metadata": {},
   "outputs": [],
   "source": [
    "np.sum(returns), cum_returns[-1]"
   ]
  },
  {
   "cell_type": "code",
   "execution_count": null,
   "metadata": {},
   "outputs": [],
   "source": [
    "np.sum(returns), cum_returns[-1]"
   ]
  },
  {
   "cell_type": "code",
   "execution_count": null,
   "metadata": {},
   "outputs": [],
   "source": [
    "np.sum(returns), cum_returns[-1]"
   ]
  },
  {
   "cell_type": "code",
   "execution_count": null,
   "metadata": {},
   "outputs": [],
   "source": [
    "np.sum(returns), cum_returns[-1]"
   ]
  },
  {
   "cell_type": "code",
   "execution_count": null,
   "metadata": {},
   "outputs": [],
   "source": [
    "np.sum(returns), cum_returns[-1]"
   ]
  },
  {
   "cell_type": "code",
   "execution_count": null,
   "metadata": {},
   "outputs": [],
   "source": [
    "np.sum(returns), cum_returns[-1]"
   ]
  },
  {
   "cell_type": "code",
   "execution_count": null,
   "metadata": {},
   "outputs": [],
   "source": []
  },
  {
   "cell_type": "code",
   "execution_count": 17,
   "metadata": {},
   "outputs": [],
   "source": [
    "eq_df = mr_strategy.equity_df.sort_index()"
   ]
  },
  {
   "cell_type": "code",
   "execution_count": null,
   "metadata": {},
   "outputs": [],
   "source": [
    "eq_df"
   ]
  },
  {
   "cell_type": "code",
   "execution_count": 18,
   "metadata": {},
   "outputs": [
    {
     "name": "stderr",
     "output_type": "stream",
     "text": [
      "2020-12-25 19:41:58,850 numexpr.utils [INFO] Note: NumExpr detected 12 cores but \"NUMEXPR_MAX_THREADS\" not set, so enforcing safe limit of 8.\n",
      "2020-12-25 19:41:58,850 numexpr.utils [INFO] NumExpr defaulting to 8 threads.\n"
     ]
    }
   ],
   "source": [
    "eq_df.loc[:, 'peak'] = eq_df.equity.cummax()\n",
    "eq_df.loc[:, 'drawdown'] = 1 - (eq_df.equity / eq_df.peak)"
   ]
  },
  {
   "cell_type": "code",
   "execution_count": 19,
   "metadata": {},
   "outputs": [],
   "source": [
    "rsi = pd.read_parquet('ta_data.parquet')\n",
    "plt_df = rsi.loc[rsi.symbol == 'A']"
   ]
  },
  {
   "cell_type": "code",
   "execution_count": null,
   "metadata": {},
   "outputs": [],
   "source": [
    "import plotly.graph_objects as go\n",
    "from plotly.subplots import make_subplots\n",
    "\n",
    "#eq_df = mr_strategy.equity_df.sort_index()\n",
    "\n",
    "def add_liquidation_lines(fig, eq_df, max_val, row_ind, col_ind):\n",
    "    for row in eq_df.loc[eq_df.drawdown_hit.fillna(False)].index:\n",
    "        fig.add_trace(\n",
    "             go.Scattergl(\n",
    "                    x=[row, row],\n",
    "                    y=[0, max_val],\n",
    "                    mode='lines',\n",
    "                    line=dict(color='firebrick', dash='dash'),\n",
    "                    showlegend=False\n",
    "            ),\n",
    "            row=row_ind, col=col_ind\n",
    "        ) \n",
    "\n",
    "\n",
    "fig = make_subplots(rows=3, cols=1, shared_xaxes=True)#, specs=[[{\"secondary_y\": True}]])\n",
    "\n",
    "fig.add_trace(\n",
    "    go.Scattergl(\n",
    "        x=eq_df.index, y=eq_df.equity, name='equity curve'\n",
    "    ),\n",
    "    row=1, col=1\n",
    ")\n",
    "\n",
    "add_liquidation_lines(fig, eq_df, eq_df.equity.max(), 1, 1)\n",
    "\n",
    "fig.add_trace(\n",
    "    go.Scattergl(\n",
    "        x=eq_df.index, y=eq_df.drawdown, name='drawdown'\n",
    "    ),\n",
    "    row=2, col=1\n",
    ")\n",
    "\n",
    "add_liquidation_lines(fig, eq_df, eq_df.drawdown.max(), 2, 1)\n",
    "\n",
    "fig.add_trace(\n",
    "    go.Scattergl(\n",
    "        x=plt_df['Date'], y=plt_df.regime_ma, name='regime_ma'\n",
    "    ),\n",
    "    row=3, col=1\n",
    ")\n",
    "\n",
    "fig.add_trace(\n",
    "    go.Scattergl(\n",
    "        x=plt_df['Date'], y=plt_df.regime_close, name='regime_close'\n",
    "    ),\n",
    "    row=3, col=1\n",
    ")\n",
    "fig = fig.update_layout(width=1100, height=700)\n",
    "fig"
   ]
  },
  {
   "cell_type": "code",
   "execution_count": null,
   "metadata": {},
   "outputs": [],
   "source": [
    "\n",
    "fig = make_subplots(rows=2, cols=1, shared_xaxes=True)\n",
    "\n",
    "fig.add_trace(\n",
    "    go.Scattergl(\n",
    "        x=plt_df['date'], y=plt_df.regime_ma, name='regime_ma'\n",
    "    ),\n",
    "    row=1, col=1\n",
    ")\n",
    "\n",
    "fig.add_trace(\n",
    "    go.Scattergl(\n",
    "        x=plt_df['date'], y=plt_df.regime_close, name='regime_close'\n",
    "    ),\n",
    "    row=1, col=1\n",
    ")\n",
    "fig.add_trace(\n",
    "    go.Scattergl(\n",
    "        x=eq_df.index, y=eq_df.equity, name='equity curve'\n",
    "    ),\n",
    "    row=2, col=1\n",
    ")\n",
    "fig = fig.update_layout(width=1100, height=700)\n",
    "fig"
   ]
  },
  {
   "cell_type": "code",
   "execution_count": null,
   "metadata": {},
   "outputs": [],
   "source": [
    "import plotly.graph_objects as go\n",
    "\n",
    "eq_df = mr_strategy.equity_df.sort_index()\n",
    "\n",
    "fig = go.Figure()\n",
    "\n",
    "fig.add_trace(\n",
    "    go.Scattergl(\n",
    "        x=eq_df.index, y=eq_df.positions, name='positions'\n",
    "    ),\n",
    "    secondary_y=True\n",
    ")\n",
    "fig"
   ]
  },
  {
   "cell_type": "code",
   "execution_count": null,
   "metadata": {},
   "outputs": [],
   "source": [
    "mr_strategy.equity_df.sort_index().to_parquet('equity_curves/stop_15_20_pos.parquet')"
   ]
  },
  {
   "cell_type": "code",
   "execution_count": null,
   "metadata": {},
   "outputs": [],
   "source": [
    "#mr_strategy.equity_df.sort_index().to_parquet('equity_curves/stop.parquet')"
   ]
  },
  {
   "cell_type": "code",
   "execution_count": null,
   "metadata": {},
   "outputs": [],
   "source": [
    "eq_df2 = pd.read_parquet('equity_curves/no_stop.parquet')"
   ]
  },
  {
   "cell_type": "code",
   "execution_count": null,
   "metadata": {},
   "outputs": [],
   "source": [
    "eq_df3 = pd.read_parquet('equity_curves/stop.parquet')"
   ]
  },
  {
   "cell_type": "code",
   "execution_count": null,
   "metadata": {},
   "outputs": [],
   "source": [
    "eq_df3.loc[equity_df.equity != 50000].iloc[-1]"
   ]
  },
  {
   "cell_type": "code",
   "execution_count": null,
   "metadata": {},
   "outputs": [],
   "source": [
    "eq_df2.loc[equity_df.equity != 50000].iloc[-1]"
   ]
  },
  {
   "cell_type": "code",
   "execution_count": null,
   "metadata": {},
   "outputs": [],
   "source": [
    "eq_df.loc[equity_df.equity != 50000].iloc[-1]"
   ]
  },
  {
   "cell_type": "code",
   "execution_count": null,
   "metadata": {},
   "outputs": [],
   "source": [
    "import plotly.graph_objects as go\n",
    "\n",
    "eq_df = mr_strategy.equity_df.sort_index()\n",
    "\n",
    "fig = go.Figure()\n",
    "\n",
    "fig.add_trace(\n",
    "    go.Scattergl(\n",
    "        x=eq_df.index, y=eq_df.equity, name='equity curve no stop'\n",
    "    )\n",
    ")\n",
    "fig.add_trace(\n",
    "    go.Scattergl(\n",
    "        x=eq_df2.index, y=eq_df2.equity, name='equity curve no stop larger pos'\n",
    "    )\n",
    ")\n",
    "fig.add_trace(\n",
    "    go.Scattergl(\n",
    "        x=eq_df3.index, y=eq_df3.equity, name='equity curve'\n",
    "    )\n",
    ")\n",
    "fig"
   ]
  },
  {
   "cell_type": "code",
   "execution_count": null,
   "metadata": {},
   "outputs": [],
   "source": [
    "import plotly.graph_objects as go\n",
    "\n",
    "eq_df = mr_strategy.equity_df.sort_index()\n",
    "\n",
    "fig = go.Figure()\n",
    "\n",
    "fig.add_trace(\n",
    "    go.Scattergl(\n",
    "        x=eq_df.index, y=eq_df.equity, name='equity curve'\n",
    "    )\n",
    ")\n",
    "fig"
   ]
  },
  {
   "cell_type": "code",
   "execution_count": null,
   "metadata": {},
   "outputs": [],
   "source": [
    "def print_stats():\n",
    "    trade_count = tradesAnalyzer.getCount()\n",
    "    wins_cnt = tradesAnalyzer.getProfitableCount()\n",
    "    loss_cnt = tradesAnalyzer.getUnprofitableCount()\n",
    "    profits = tradesAnalyzer.getProfits()\n",
    "    losses = tradesAnalyzer.getLosses()\n",
    "    norm_profits = tradesAnalyzer.getPositiveReturns()\n",
    "    norm_losses = tradesAnalyzer.getNegativeReturns()\n",
    "    all_returns = tradesAnalyzer.getAllReturns()\n",
    "    sharp_ratio = sharpAnalyzer.getSharpeRatio(.02)\n",
    "    max_drawdown = drawDownAnalyzer.getMaxDrawDown()\n",
    "\n",
    "    measures = {\n",
    "        'win_rate': (wins_cnt) / (wins_cnt + loss_cnt),\n",
    "        'win count': wins_cnt,\n",
    "        'loss count': loss_cnt,\n",
    "        'mean_profit': profits.mean(),\n",
    "        'mean_loss': losses.mean(),\n",
    "        'mean_norm_profit': norm_profits.mean(),\n",
    "        'mean_norm_loss': norm_losses.mean(),\n",
    "        'mean_return': all_returns.mean(),\n",
    "        'sharp_ratio': sharp_ratio,\n",
    "        'max_drawdown': max_drawdown,\n",
    "        'cum_returns': cum_returns[-1],\n",
    "        'avg_cum_return': np.power(cum_returns[-1], 1 / 10) - 1,\n",
    "        'total_cash': mr_strategy.getBroker().getEquity()\n",
    "    }\n",
    "    return pd.Series(measures).to_frame().transpose() "
   ]
  },
  {
   "cell_type": "code",
   "execution_count": null,
   "metadata": {},
   "outputs": [],
   "source": [
    "print_stats()"
   ]
  },
  {
   "cell_type": "code",
   "execution_count": null,
   "metadata": {},
   "outputs": [],
   "source": [
    "print_stats()"
   ]
  },
  {
   "cell_type": "code",
   "execution_count": null,
   "metadata": {},
   "outputs": [],
   "source": [
    "print_stats()"
   ]
  },
  {
   "cell_type": "code",
   "execution_count": null,
   "metadata": {},
   "outputs": [],
   "source": [
    "print_stats()"
   ]
  },
  {
   "cell_type": "code",
   "execution_count": null,
   "metadata": {},
   "outputs": [],
   "source": [
    "print_stats()"
   ]
  },
  {
   "cell_type": "code",
   "execution_count": null,
   "metadata": {},
   "outputs": [],
   "source": [
    "mr_strategy.entries.loc[mr_strategy.entries.selected == 1].to_parquet('actual_entries.parquet')"
   ]
  },
  {
   "cell_type": "code",
   "execution_count": null,
   "metadata": {},
   "outputs": [],
   "source": [
    "entrancies.to_parquet('actual_entries')"
   ]
  },
  {
   "cell_type": "code",
   "execution_count": null,
   "metadata": {
    "scrolled": true
   },
   "outputs": [],
   "source": [
    "import matplotlib.pyplot as plt\n",
    "\n",
    "x  = np.arange(returns.shape[0])\n",
    "plt.plot(x, returns)\n",
    "plt.show()"
   ]
  },
  {
   "cell_type": "code",
   "execution_count": null,
   "metadata": {},
   "outputs": [],
   "source": [
    "import matplotlib.pyplot as plt\n",
    "\n",
    "x  = np.arange(returns.shape[0])\n",
    "plt.plot(x, cum_returns)\n",
    "plt.show()"
   ]
  },
  {
   "cell_type": "code",
   "execution_count": null,
   "metadata": {},
   "outputs": [],
   "source": [
    "import matplotlib.pyplot as plt\n",
    "\n",
    "x  = np.arange(returns.shape[0])\n",
    "plt.plot(x, returns)\n",
    "plt.show()"
   ]
  },
  {
   "cell_type": "code",
   "execution_count": null,
   "metadata": {},
   "outputs": [],
   "source": [
    "import plotly.graph_objs as go\n",
    "\n"
   ]
  },
  {
   "cell_type": "code",
   "execution_count": null,
   "metadata": {},
   "outputs": [],
   "source": [
    "import matplotlib.pyplot as plt\n",
    "x  = np.arange(returns.shape[0])\n",
    "plt.plot(x, cum_returns)\n",
    "plt.show()"
   ]
  },
  {
   "cell_type": "code",
   "execution_count": null,
   "metadata": {
    "scrolled": true
   },
   "outputs": [],
   "source": [
    "import matplotlib.pyplot as plt\n",
    "\n",
    "x  = np.arange(returns.shape[0])\n",
    "plt.plot(x, returns)\n",
    "plt.show()"
   ]
  },
  {
   "cell_type": "code",
   "execution_count": null,
   "metadata": {},
   "outputs": [],
   "source": [
    "x  = np.arange(returns.shape[0])\n",
    "plt.plot(x, cum_returns)\n",
    "plt.show()"
   ]
  },
  {
   "cell_type": "code",
   "execution_count": null,
   "metadata": {},
   "outputs": [],
   "source": [
    "cum_returns[-1]"
   ]
  },
  {
   "cell_type": "code",
   "execution_count": null,
   "metadata": {},
   "outputs": [],
   "source": [
    "cum_returns[-1]"
   ]
  },
  {
   "cell_type": "code",
   "execution_count": null,
   "metadata": {},
   "outputs": [],
   "source": [
    "cum_returns[-1]"
   ]
  },
  {
   "cell_type": "code",
   "execution_count": null,
   "metadata": {},
   "outputs": [],
   "source": [
    "print(\"Final portfolio value: $%.2f\" % rsi_strategy.getBroker().getEquity())"
   ]
  }
 ],
 "metadata": {
  "kernelspec": {
   "display_name": "Python 3",
   "language": "python",
   "name": "python3"
  },
  "language_info": {
   "codemirror_mode": {
    "name": "ipython",
    "version": 3
   },
   "file_extension": ".py",
   "mimetype": "text/x-python",
   "name": "python",
   "nbconvert_exporter": "python",
   "pygments_lexer": "ipython3",
   "version": "3.7.6"
  }
 },
 "nbformat": 4,
 "nbformat_minor": 4
}
