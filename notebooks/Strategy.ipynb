{
 "cells": [
  {
   "cell_type": "code",
   "execution_count": 1,
   "metadata": {},
   "outputs": [],
   "source": [
    "from strategy import RSIStrategy, MFIStrategy, STOStrategy, BreakoutStrategy, BollingerStrategy, MACDStrategy"
   ]
  },
  {
   "cell_type": "code",
   "execution_count": 2,
   "metadata": {},
   "outputs": [],
   "source": [
    "import pandas as pd\n",
    "\n",
    "def run_strategy_on_data(data_loc, CustStrat, strategy_type='mean_reversion'):\n",
    "    df = pd.read_parquet(data_loc).reset_index(drop=True)\n",
    "    df.loc[:, 'date'] = df.Date\n",
    "    strat = CustStrat(df)\n",
    "    strat.run_backtest_generate_reports(strategy_type=strategy_type)\n",
    "    del df\n",
    "    del strat"
   ]
  },
  {
   "cell_type": "code",
   "execution_count": 3,
   "metadata": {},
   "outputs": [],
   "source": [
    "data_loc = 'ta_data.parquet'"
   ]
  },
  {
   "cell_type": "code",
   "execution_count": 4,
   "metadata": {},
   "outputs": [
    {
     "name": "stderr",
     "output_type": "stream",
     "text": [
      "/Users/brianmcclanahan/git_repos/StrategyPortfolioTrading/strategy.py:97: RuntimeWarning: invalid value encountered in true_divide\n",
      "  inv_price, equity / mv_avg, (df['date'] >= pickup_dt).values,\n",
      "/Users/brianmcclanahan/git_repos/StrategyPortfolioTrading/strategy.py:97: RuntimeWarning: invalid value encountered in true_divide\n",
      "  inv_price, equity / mv_avg, (df['date'] >= pickup_dt).values,\n"
     ]
    }
   ],
   "source": [
    "run_strategy_on_data(data_loc, RSIStrategy, strategy_type='mean_reversion')"
   ]
  },
  {
   "cell_type": "code",
   "execution_count": 5,
   "metadata": {},
   "outputs": [],
   "source": [
    "run_strategy_on_data(data_loc, MFIStrategy, strategy_type='mean_reversion')"
   ]
  },
  {
   "cell_type": "code",
   "execution_count": 6,
   "metadata": {},
   "outputs": [],
   "source": [
    "run_strategy_on_data(data_loc, STOStrategy, strategy_type='mean_reversion')"
   ]
  },
  {
   "cell_type": "code",
   "execution_count": 7,
   "metadata": {},
   "outputs": [
    {
     "name": "stderr",
     "output_type": "stream",
     "text": [
      "/Users/brianmcclanahan/git_repos/StrategyPortfolioTrading/strategy.py:97: RuntimeWarning: invalid value encountered in true_divide\n",
      "  inv_price, equity / mv_avg, (df['date'] >= pickup_dt).values,\n"
     ]
    }
   ],
   "source": [
    "run_strategy_on_data(data_loc, BreakoutStrategy, strategy_type='trend')"
   ]
  },
  {
   "cell_type": "code",
   "execution_count": 8,
   "metadata": {},
   "outputs": [],
   "source": [
    "run_strategy_on_data(data_loc, BollingerStrategy, strategy_type='trend')"
   ]
  },
  {
   "cell_type": "code",
   "execution_count": 9,
   "metadata": {},
   "outputs": [],
   "source": [
    "run_strategy_on_data(data_loc, MACDStrategy, strategy_type='trend')"
   ]
  },
  {
   "cell_type": "code",
   "execution_count": null,
   "metadata": {},
   "outputs": [],
   "source": []
  }
 ],
 "metadata": {
  "kernelspec": {
   "display_name": "Python 3",
   "language": "python",
   "name": "python3"
  },
  "language_info": {
   "codemirror_mode": {
    "name": "ipython",
    "version": 3
   },
   "file_extension": ".py",
   "mimetype": "text/x-python",
   "name": "python",
   "nbconvert_exporter": "python",
   "pygments_lexer": "ipython3",
   "version": "3.7.6"
  }
 },
 "nbformat": 4,
 "nbformat_minor": 4
}
